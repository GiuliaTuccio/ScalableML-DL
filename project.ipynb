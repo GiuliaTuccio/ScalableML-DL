{
  "cells": [
    {
      "cell_type": "markdown",
      "metadata": {
        "id": "view-in-github",
        "colab_type": "text"
      },
      "source": [
        "<a href=\"https://colab.research.google.com/github/GiuliaTuccio/ScalableML-DL/blob/main/project.ipynb\" target=\"_parent\"><img src=\"https://colab.research.google.com/assets/colab-badge.svg\" alt=\"Open In Colab\"/></a>"
      ]
    },
    {
      "cell_type": "markdown",
      "metadata": {
        "id": "D4H0PcelCQi7"
      },
      "source": [
        "**Final Project**\n",
        "\n",
        "\n",
        "In this project we build a reccomandation system for music based on the notion of spectogram; a picture created starting by an mp3 file, and representing the frequences with respect to time.\n",
        "\n",
        "The mp3 file are downloaded on the page https://github.com/mdeff/fma, containing 8000 songs, belonging to one of the 8 following genres:\n",
        "1. Hip-Hop\n",
        "2. International\n",
        "3. Electronic\n",
        "4. Folk\n",
        "5. Experimental\n",
        "6. Rock\n",
        "7. Pop\n",
        "8. Instrumental\n",
        "\n",
        "As soon as the spectograms are generated, we proceed into cutting the images into the desired shape (128x128) and converting them into greyscale.\n",
        "\n",
        "Successively, we build the classification network and proceed with the training.\n",
        "\n",
        "Finnally, we discerd the last layer (producing the classification of the songs), keeping the dense layer made by 32-features vector.\n",
        "The features will be used to compute the reccomondation system based on the cosine similarity, between a song inputed by the user and the 'Test' set."
      ]
    },
    {
      "cell_type": "markdown",
      "metadata": {
        "id": "rRzGZd3cCNBI"
      },
      "source": [
        "Importing the necessary libraries"
      ]
    },
    {
      "cell_type": "code",
      "execution_count": 1,
      "metadata": {
        "colab": {
          "base_uri": "https://localhost:8080/"
        },
        "id": "Gw3645AOMA_1",
        "outputId": "78372127-25ab-4230-894e-1e3a6d6ddcf3"
      },
      "outputs": [
        {
          "output_type": "stream",
          "name": "stdout",
          "text": [
            "Requirement already satisfied: tensorflow in /usr/local/lib/python3.7/dist-packages (2.7.0)\n",
            "Requirement already satisfied: tensorflow-io-gcs-filesystem>=0.21.0 in /usr/local/lib/python3.7/dist-packages (from tensorflow) (0.22.0)\n",
            "Requirement already satisfied: h5py>=2.9.0 in /usr/local/lib/python3.7/dist-packages (from tensorflow) (3.1.0)\n",
            "Requirement already satisfied: opt-einsum>=2.3.2 in /usr/local/lib/python3.7/dist-packages (from tensorflow) (3.3.0)\n",
            "Requirement already satisfied: numpy>=1.14.5 in /usr/local/lib/python3.7/dist-packages (from tensorflow) (1.19.5)\n",
            "Requirement already satisfied: wrapt>=1.11.0 in /usr/local/lib/python3.7/dist-packages (from tensorflow) (1.13.3)\n",
            "Requirement already satisfied: absl-py>=0.4.0 in /usr/local/lib/python3.7/dist-packages (from tensorflow) (0.12.0)\n",
            "Requirement already satisfied: google-pasta>=0.1.1 in /usr/local/lib/python3.7/dist-packages (from tensorflow) (0.2.0)\n",
            "Requirement already satisfied: libclang>=9.0.1 in /usr/local/lib/python3.7/dist-packages (from tensorflow) (12.0.0)\n",
            "Requirement already satisfied: six>=1.12.0 in /usr/local/lib/python3.7/dist-packages (from tensorflow) (1.15.0)\n",
            "Requirement already satisfied: tensorboard~=2.6 in /usr/local/lib/python3.7/dist-packages (from tensorflow) (2.7.0)\n",
            "Requirement already satisfied: gast<0.5.0,>=0.2.1 in /usr/local/lib/python3.7/dist-packages (from tensorflow) (0.4.0)\n",
            "Requirement already satisfied: tensorflow-estimator<2.8,~=2.7.0rc0 in /usr/local/lib/python3.7/dist-packages (from tensorflow) (2.7.0)\n",
            "Requirement already satisfied: astunparse>=1.6.0 in /usr/local/lib/python3.7/dist-packages (from tensorflow) (1.6.3)\n",
            "Requirement already satisfied: protobuf>=3.9.2 in /usr/local/lib/python3.7/dist-packages (from tensorflow) (3.17.3)\n",
            "Requirement already satisfied: wheel<1.0,>=0.32.0 in /usr/local/lib/python3.7/dist-packages (from tensorflow) (0.37.0)\n",
            "Requirement already satisfied: flatbuffers<3.0,>=1.12 in /usr/local/lib/python3.7/dist-packages (from tensorflow) (2.0)\n",
            "Requirement already satisfied: grpcio<2.0,>=1.24.3 in /usr/local/lib/python3.7/dist-packages (from tensorflow) (1.42.0)\n",
            "Requirement already satisfied: keras-preprocessing>=1.1.1 in /usr/local/lib/python3.7/dist-packages (from tensorflow) (1.1.2)\n",
            "Requirement already satisfied: typing-extensions>=3.6.6 in /usr/local/lib/python3.7/dist-packages (from tensorflow) (3.10.0.2)\n",
            "Requirement already satisfied: keras<2.8,>=2.7.0rc0 in /usr/local/lib/python3.7/dist-packages (from tensorflow) (2.7.0)\n",
            "Requirement already satisfied: termcolor>=1.1.0 in /usr/local/lib/python3.7/dist-packages (from tensorflow) (1.1.0)\n",
            "Requirement already satisfied: cached-property in /usr/local/lib/python3.7/dist-packages (from h5py>=2.9.0->tensorflow) (1.5.2)\n",
            "Requirement already satisfied: google-auth<3,>=1.6.3 in /usr/local/lib/python3.7/dist-packages (from tensorboard~=2.6->tensorflow) (1.35.0)\n",
            "Requirement already satisfied: tensorboard-plugin-wit>=1.6.0 in /usr/local/lib/python3.7/dist-packages (from tensorboard~=2.6->tensorflow) (1.8.0)\n",
            "Requirement already satisfied: markdown>=2.6.8 in /usr/local/lib/python3.7/dist-packages (from tensorboard~=2.6->tensorflow) (3.3.6)\n",
            "Requirement already satisfied: requests<3,>=2.21.0 in /usr/local/lib/python3.7/dist-packages (from tensorboard~=2.6->tensorflow) (2.23.0)\n",
            "Requirement already satisfied: setuptools>=41.0.0 in /usr/local/lib/python3.7/dist-packages (from tensorboard~=2.6->tensorflow) (57.4.0)\n",
            "Requirement already satisfied: werkzeug>=0.11.15 in /usr/local/lib/python3.7/dist-packages (from tensorboard~=2.6->tensorflow) (1.0.1)\n",
            "Requirement already satisfied: tensorboard-data-server<0.7.0,>=0.6.0 in /usr/local/lib/python3.7/dist-packages (from tensorboard~=2.6->tensorflow) (0.6.1)\n",
            "Requirement already satisfied: google-auth-oauthlib<0.5,>=0.4.1 in /usr/local/lib/python3.7/dist-packages (from tensorboard~=2.6->tensorflow) (0.4.6)\n",
            "Requirement already satisfied: pyasn1-modules>=0.2.1 in /usr/local/lib/python3.7/dist-packages (from google-auth<3,>=1.6.3->tensorboard~=2.6->tensorflow) (0.2.8)\n",
            "Requirement already satisfied: cachetools<5.0,>=2.0.0 in /usr/local/lib/python3.7/dist-packages (from google-auth<3,>=1.6.3->tensorboard~=2.6->tensorflow) (4.2.4)\n",
            "Requirement already satisfied: rsa<5,>=3.1.4 in /usr/local/lib/python3.7/dist-packages (from google-auth<3,>=1.6.3->tensorboard~=2.6->tensorflow) (4.8)\n",
            "Requirement already satisfied: requests-oauthlib>=0.7.0 in /usr/local/lib/python3.7/dist-packages (from google-auth-oauthlib<0.5,>=0.4.1->tensorboard~=2.6->tensorflow) (1.3.0)\n",
            "Requirement already satisfied: importlib-metadata>=4.4 in /usr/local/lib/python3.7/dist-packages (from markdown>=2.6.8->tensorboard~=2.6->tensorflow) (4.8.2)\n",
            "Requirement already satisfied: zipp>=0.5 in /usr/local/lib/python3.7/dist-packages (from importlib-metadata>=4.4->markdown>=2.6.8->tensorboard~=2.6->tensorflow) (3.6.0)\n",
            "Requirement already satisfied: pyasn1<0.5.0,>=0.4.6 in /usr/local/lib/python3.7/dist-packages (from pyasn1-modules>=0.2.1->google-auth<3,>=1.6.3->tensorboard~=2.6->tensorflow) (0.4.8)\n",
            "Requirement already satisfied: idna<3,>=2.5 in /usr/local/lib/python3.7/dist-packages (from requests<3,>=2.21.0->tensorboard~=2.6->tensorflow) (2.10)\n",
            "Requirement already satisfied: certifi>=2017.4.17 in /usr/local/lib/python3.7/dist-packages (from requests<3,>=2.21.0->tensorboard~=2.6->tensorflow) (2021.10.8)\n",
            "Requirement already satisfied: urllib3!=1.25.0,!=1.25.1,<1.26,>=1.21.1 in /usr/local/lib/python3.7/dist-packages (from requests<3,>=2.21.0->tensorboard~=2.6->tensorflow) (1.24.3)\n",
            "Requirement already satisfied: chardet<4,>=3.0.2 in /usr/local/lib/python3.7/dist-packages (from requests<3,>=2.21.0->tensorboard~=2.6->tensorflow) (3.0.4)\n",
            "Requirement already satisfied: oauthlib>=3.0.0 in /usr/local/lib/python3.7/dist-packages (from requests-oauthlib>=0.7.0->google-auth-oauthlib<0.5,>=0.4.1->tensorboard~=2.6->tensorflow) (3.1.1)\n"
          ]
        }
      ],
      "source": [
        "!pip install tensorflow\n",
        "\n",
        "import os\n",
        "import pandas as pd\n",
        "import re\n",
        "import math\n",
        "import numpy as np\n",
        "import soundfile as sf\n",
        "from PIL import Image\n",
        "import librosa\n",
        "import librosa.display\n",
        "import matplotlib.pyplot as plt\n",
        "from PIL import Image \n",
        "from keras.models import Sequential\n",
        "from keras import initializers\n",
        "from keras import optimizers\n",
        "from keras.layers import *\n",
        "from keras.utils.vis_utils import plot_model\n",
        "\n",
        "import cv2\n",
        "from keras.utils import np_utils\n",
        "from sklearn.model_selection import train_test_split"
      ]
    },
    {
      "cell_type": "code",
      "execution_count": 16,
      "metadata": {
        "id": "1nxEPnG73ZVp"
      },
      "outputs": [],
      "source": [
        "from keras.callbacks import EarlyStopping, ModelCheckpoint\n",
        "from keras import layers\n",
        "\n",
        "from sklearn.metrics import classification_report,confusion_matrix"
      ]
    },
    {
      "cell_type": "markdown",
      "metadata": {
        "id": "ltTazIWECTia"
      },
      "source": [
        "Importing Google Drive, where the songs are saved"
      ]
    },
    {
      "cell_type": "code",
      "execution_count": 3,
      "metadata": {
        "colab": {
          "base_uri": "https://localhost:8080/"
        },
        "id": "ApI8bA5dMdDw",
        "outputId": "e8e500e5-34fb-40e5-b973-0a734b448b8b"
      },
      "outputs": [
        {
          "output_type": "stream",
          "name": "stdout",
          "text": [
            "Mounted at /content/gdrive\n"
          ]
        }
      ],
      "source": [
        "from google.colab import drive \n",
        "drive.mount('/content/gdrive') "
      ]
    },
    {
      "cell_type": "markdown",
      "metadata": {
        "id": "x2ILDPdpCiUn"
      },
      "source": [
        "Uploading the excel file containing the information about the songs.\n",
        "\n",
        "The first column contains the id, whereas the 41st column defines the genre of the song"
      ]
    },
    {
      "cell_type": "code",
      "execution_count": null,
      "metadata": {
        "colab": {
          "base_uri": "https://localhost:8080/"
        },
        "id": "rf0rf07mrSSL",
        "outputId": "e84862d8-68e5-4ca3-b99f-0aa0c918def4"
      },
      "outputs": [
        {
          "output_type": "stream",
          "name": "stdout",
          "text": [
            "Rock                   14182\n",
            "Experimental           10608\n",
            "Electronic              9372\n",
            "Hip-Hop                 3552\n",
            "Folk                    2803\n",
            "Pop                     2332\n",
            "Instrumental            2079\n",
            "International           1389\n",
            "Classical               1230\n",
            "Jazz                     571\n",
            "Old-Time / Historic      554\n",
            "Spoken                   423\n",
            "Country                  194\n",
            "Soul-RnB                 175\n",
            "Blues                    110\n",
            "Easy Listening            24\n",
            "Name: Unnamed: 40, dtype: int64\n"
          ]
        }
      ],
      "source": [
        "# Upload the data set containing the informations about the songs\n",
        "\n",
        "filename_metadata = \"/content/gdrive/MyDrive/tracks.csv\"\n",
        "tracks = pd.read_csv(filename_metadata, header=2)\n",
        "\n",
        "print(tracks['Unnamed: 40'].value_counts())"
      ]
    },
    {
      "cell_type": "code",
      "execution_count": null,
      "metadata": {
        "id": "Pg56rgk24V1d"
      },
      "outputs": [],
      "source": [
        "tracks_array = tracks.values\n",
        "\n",
        "# extract the information\n",
        "tracks_id_array = tracks_array[: , 0]\n",
        "tracks_genre_array = tracks_array[: , 40]\n",
        "\n",
        "# save the id and the genre in an array\n",
        "tracks_id_array = tracks_id_array.reshape(tracks_id_array.shape[0], 1)\n",
        "\n",
        "tracks_genre_array = tracks_genre_array.reshape(tracks_genre_array.shape[0], 1)"
      ]
    },
    {
      "cell_type": "markdown",
      "metadata": {
        "id": "004V_hmeDJdN"
      },
      "source": [
        "The following code is a trial for one folder.\n",
        "\n",
        "Firstly, a directory cointaining the spectogram images is created.\n",
        "\n",
        "Then, a loop goes through each of the mp3 files, saves the index and the genre, and uses the library librosa to generate the spectogram.\n",
        "\n",
        "The spectogram is then converted in decibel units (melspectogram) and saved as a jpg image."
      ]
    },
    {
      "cell_type": "code",
      "execution_count": null,
      "metadata": {
        "id": "BQ0oApor37eX"
      },
      "outputs": [],
      "source": [
        "if not os.path.exists('/content/gdrive/MyDrive/Val_Spectogram'):\n",
        "            os.makedirs('/content/gdrive/MyDrive/Val_Spectogram')\n",
        "\n",
        "folder_sample = '/content/gdrive/MyDrive/music-data/154'\n",
        "            \n",
        "\n",
        "file_names = [os.path.join(folder_sample, f)\n",
        "                  for f in os.listdir(folder_sample)\n",
        "                  if f.endswith(\".mp3\")]\n",
        "\n",
        "count = 0\n",
        "           \n",
        "for f in file_names:\n",
        "    #track_id = int(re.search('/content/gdrive/MyDrive/music-data/.*/(.+?).mp3', f).group(1))\n",
        "    track_id = int(re.search('/content/gdrive/MyDrive/music-data/154/(.+?).mp3', f).group(1))\n",
        "    print(track_id)\n",
        "    idx = list(tracks_id_array).index(track_id)\n",
        "    \n",
        "    # returns audio time series and sampling rate\n",
        "    y, sr =  librosa.load(f)\n",
        "    # Display of mel-frequency spectrogram coefficients\n",
        "    melspectrogram_array = librosa.feature.melspectrogram(y=y, sr=sr, n_mels=128, fmax=8000)\n",
        "    # Convert a power spectrogram (amplitude squared) to decibel (dB) units\n",
        "    mel = librosa.power_to_db(melspectrogram_array)\n",
        "    # Save the images of the spectogram\n",
        "    fig_size = plt.rcParams[\"figure.figsize\"]\n",
        "    fig_size[0] = float(mel.shape[1]) / float(100)\n",
        "    fig_size[1] = float(mel.shape[0]) / float(100)\n",
        "    plt.rcParams[\"figure.figsize\"] = fig_size\n",
        "    plt.axis('off')\n",
        "    plt.axes([0., 0., 1., 1.0], frameon=False, xticks=[], yticks=[])\n",
        "    librosa.display.specshow(mel, cmap='gray_r')\n",
        "    plt.savefig(\"/content/gdrive/MyDrive/Val_Spectogram/\"+str(count)+\"_\"+str(tracks_genre_array[idx,0])+\".jpg\", bbox_inches=None, pad_inches=0)\n",
        "    plt.close()\n",
        "    count += 1"
      ]
    },
    {
      "cell_type": "markdown",
      "metadata": {
        "id": "31C1eiAHD2OS"
      },
      "source": [
        "Here the same procedure is replicated for all the mp3 files in the dataset"
      ]
    },
    {
      "cell_type": "code",
      "execution_count": null,
      "metadata": {
        "id": "oqBzVxiISnnZ"
      },
      "outputs": [],
      "source": [
        "count = 0\n",
        "if not os.path.exists('/content/Train_Spectogram_Images'):\n",
        "            os.makedirs('/content/Train_Spectogram_Images')\n",
        "\n",
        "folder_sample = '/content/gdrive/MyDrive/music-data'\n",
        "directories = [d for d in os.listdir(folder_sample)\n",
        "                 if os.path.isdir(os.path.join(folder_sample, d))]\n",
        "              \n",
        "for d in directories:\n",
        "    label_directory = os.path.join(folder_sample, d)\n",
        "    file_names = [os.path.join(label_directory, f)\n",
        "                  for f in os.listdir(label_directory)\n",
        "                  if f.endswith(\".mp3\")]\n",
        "            \n",
        "    for f in file_names:\n",
        "        print(file_names)\n",
        "        track_id = int(re.search('/content/gdrive/MyDrive/music-data/.*/(.+?).mp3', f).group(1))\n",
        "        print(track_id)\n",
        "        #print(track_id)\n",
        "        idx = list(tracks_id_array).index(track_id)\n",
        "        # returns audio time series and sampling rate\n",
        "        y, sr =  librosa.load(f)\n",
        "        # Display of mel-frequency spectrogram coefficients\n",
        "        melspectrogram_array = librosa.feature.melspectrogram(y=y, sr=sr, n_mels=128, fmax=8000)\n",
        "        # Convert a power spectrogram (amplitude squared) to decibel (dB) units\n",
        "        mel = librosa.power_to_db(melspectrogram_array)\n",
        "        # Save the images of the spectogram\n",
        "        fig_size = plt.rcParams[\"figure.figsize\"]\n",
        "        fig_size[0] = float(mel.shape[1]) / float(100)\n",
        "        fig_size[1] = float(mel.shape[0]) / float(100)\n",
        "        plt.rcParams[\"figure.figsize\"] = fig_size\n",
        "        plt.axis('off')\n",
        "        plt.axes([0., 0., 1., 1.0], frameon=False, xticks=[], yticks=[])\n",
        "        librosa.display.specshow(mel, cmap='gray_r')\n",
        "        plt.savefig(\"'/content/Train_Spectogram_Images'\"+str(count)+\"-\"+str(tracks_genre_array[idx,0])+\".jpg\", bbox_inches=None, pad_inches=0)\n",
        "        plt.close()\n",
        "        count += 1"
      ]
    },
    {
      "cell_type": "markdown",
      "metadata": {
        "id": "aDhxVF-xEAr1"
      },
      "source": [
        "The spectograms created are then converted into a picture of the desired dimensions. \n",
        "\n",
        "This means that all the images are cropped. The genre is saved as the name of the image."
      ]
    },
    {
      "cell_type": "code",
      "execution_count": null,
      "metadata": {
        "id": "JjBc6Fxothtm"
      },
      "outputs": [],
      "source": [
        "# Create folder for sliced images\n",
        "if not os.path.exists('/content/Train_Sliced_Images'):\n",
        "            os.makedirs('/content/Train_Sliced_Images')\n",
        "\n",
        "DEF_SIZE = 128\n",
        "\n",
        "folder_sample = '/content/gdrive/MyDrive/Train_spectogram_Images'\n",
        "directories = [d for d in os.listdir(folder_sample)\n",
        "                 if os.path.isdir(os.path.join(folder_sample, d))]\n",
        "counter = 0             \n",
        "for d in directories:\n",
        "    label_directory = os.path.join(folder_sample, d)\n",
        "    file_names = [os.path.join(label_directory, f)\n",
        "                  for f in os.listdir(label_directory)\n",
        "                  if f.endswith(\".jpg\")]\n",
        "            \n",
        "    for f in file_names:\n",
        "      genre = re.search('/content/gdrive/MyDrive/Train_spectogram_Images/.*/.*_(.+?).jpg', f).group(1)\n",
        "      #print(genre)\n",
        "      img = Image.open(f)\n",
        "      w, h = img.size\n",
        "      # understand how many sliced images for each spectogram\n",
        "      num_slices = w // DEF_SIZE\n",
        "      for i in range(num_slices):\n",
        "        left_ = i*DEF_SIZE  \n",
        "        img_sliced = img.crop((left_, 0., left_+DEF_SIZE, DEF_SIZE)) # left, top, right, bottom\n",
        "        img_sliced.save(\"/content/Train_Sliced_Images/\"+str(counter)+\"_\"+genre+\".jpg\")\n",
        "        counter += 1\n",
        "        #print(counter)"
      ]
    },
    {
      "cell_type": "code",
      "source": [
        "# Create folder for sliced images\n",
        "if not os.path.exists('/content/gdrive/MyDrive/Val_Sliced_Images'):\n",
        "            os.makedirs('/content/gdrive/MyDrive/Val_Sliced_Images')\n",
        "\n",
        "DEF_SIZE = 128\n",
        "\n",
        "folder_sample = '/content/gdrive/MyDrive/Val_Spectogram'\n",
        "            \n",
        "\n",
        "file_names = [os.path.join(folder_sample, f)\n",
        "                  for f in os.listdir(folder_sample)\n",
        "                  if f.endswith(\".jpg\")]\n",
        "counter=0\n",
        "\n",
        "for f in file_names:\n",
        "  genre = re.search('/content/gdrive/MyDrive/Val_Spectogram/.*_(.+?).jpg', f).group(1)\n",
        "  #print(genre)\n",
        "  img = Image.open(f)\n",
        "  w, h = img.size\n",
        "  # understand how many sliced images for each spectogram\n",
        "  num_slices = w // DEF_SIZE\n",
        "  for i in range(num_slices):\n",
        "    left_ = i*DEF_SIZE  \n",
        "    img_sliced = img.crop((left_, 0., left_+DEF_SIZE, DEF_SIZE)) # left, top, right, bottom\n",
        "    img_sliced.save(\"/content/gdrive/MyDrive/Val_Sliced_Images/\"+str(counter)+\"_\"+genre+\".jpg\")\n",
        "    counter += 1\n",
        "    #print(counter)"
      ],
      "metadata": {
        "id": "q2pe2hiD08Wv"
      },
      "execution_count": null,
      "outputs": []
    },
    {
      "cell_type": "markdown",
      "metadata": {
        "id": "D8Thow1JETAV"
      },
      "source": [
        "The images are then saved as npy files, easier to manage.\n",
        "\n",
        "The labels are converted in one-hot encoding and splitted into train and test sets."
      ]
    },
    {
      "cell_type": "code",
      "execution_count": null,
      "metadata": {
        "id": "L8XZDHmOR9jI"
      },
      "outputs": [],
      "source": [
        "# Convert the data set into grey-scale images and associate it with the label for the training phase\n",
        "\n",
        "## TO DO CREATE FUNCTION LOAD DATA SET\n",
        "genre = {\n",
        "        \"Hip-Hop\": 0,\n",
        "        \"International\": 1,\n",
        "        \"Electronic\": 2,\n",
        "        \"Folk\" : 3,\n",
        "        \"Experimental\": 4,\n",
        "        \"Rock\": 5,\n",
        "        \"Pop\": 6,\n",
        "        \"Instrumental\": 7\n",
        "        }\n",
        "\n",
        "spectogram_images = [os.path.join('/content/Train_Sliced_Images', f)\n",
        "                          for f in os.listdir('/content/Train_Sliced_Images')\n",
        "                          if f.endswith(\".jpg\")]\n",
        "\n",
        "\n",
        "images_all = [None]*(len(spectogram_images))\n",
        "labels_all = [None]*(len(spectogram_images))\n"
      ]
    },
    {
      "cell_type": "code",
      "execution_count": null,
      "metadata": {
        "colab": {
          "base_uri": "https://localhost:8080/"
        },
        "id": "UBzeeCQPImV9",
        "outputId": "a8fb8e90-0734-4976-babb-a511ce71fd38"
      },
      "outputs": [
        {
          "name": "stdout",
          "output_type": "stream",
          "text": [
            "49791\n"
          ]
        }
      ],
      "source": [
        "print(len(spectogram_images))\n",
        "for f in spectogram_images:\n",
        "    idx = int(re.search('/content/Train_Sliced_Images/(.+?)_.*.jpg', f).group(1))\n",
        "    genre_var = re.search('/content/Train_Sliced_Images/.*_(.+?).jpg', f).group(1)\n",
        "    \n",
        "    temp = cv2.imread(f, cv2.IMREAD_UNCHANGED)\n",
        "    images_all[idx] = cv2.cvtColor(temp, cv2.COLOR_BGR2GRAY)\n",
        "    labels_all[idx] = genre[genre_var]\n",
        "    "
      ]
    },
    {
      "cell_type": "code",
      "execution_count": null,
      "metadata": {
        "id": "muXnwtQNzrAY"
      },
      "outputs": [],
      "source": [
        "images = np.array(images_all)\n",
        "labels = np.array(labels_all)\n",
        "labels = labels.reshape(labels.shape[0],1)\n",
        "train_x, test_x, train_y, test_y = train_test_split(images, labels, test_size=0.1, shuffle=True)"
      ]
    },
    {
      "cell_type": "code",
      "execution_count": null,
      "metadata": {
        "id": "3Y7c9cZeztYo"
      },
      "outputs": [],
      "source": [
        "# Convert the labels into one-hot vectors.\n",
        "n_classes = len(genre)\n",
        "train_y = np_utils.to_categorical(train_y, num_classes=n_classes)\n",
        "test_y = np_utils.to_categorical(test_y, num_classes=n_classes)\n",
        "\n",
        "genre_new = {value: key for key, value in genre.items()}\n",
        "\n"
      ]
    },
    {
      "cell_type": "code",
      "execution_count": null,
      "metadata": {
        "id": "Pep4HsGEzvGD"
      },
      "outputs": [],
      "source": [
        "if os.path.exists('/content/gdrive/MyDrive/Training_Data_Giulia'):\n",
        "    train_x = np.load(\"/content/gdrive/MyDrive/Training_Data_Giulia/train_x.npy\")\n",
        "    train_y = np.load(\"/content/gdrive/MyDrive/Training_Data_Giulia/train_y.npy\")\n",
        "    test_x = np.load(\"/content/gdrive/MyDrive/Training_Data_Giulia/test_x.npy\")\n",
        "    test_y = np.load(\"/content/gdrive/MyDrive/Training_Data_Giulia/test_y.npy\")\n",
        "    \n",
        "\n",
        "if not os.path.exists('/content/gdrive/MyDrive/Training_Dat_Giuliaa'):\n",
        "    os.makedirs('/content/gdrive/MyDrive/Training_Data_Giulia')\n",
        "np.save(\"/content/gdrive/MyDrive/Training_Data_Giulia/train_x.npy\", train_x)\n",
        "np.save(\"/content/gdrive/MyDrive/Training_Data_Giulia/train_y.npy\", train_y)\n",
        "np.save(\"/content/gdrive/MyDrive/Training_Data_Giulia/test_x.npy\", test_x)\n",
        "np.save(\"/content/gdrive/MyDrive/Training_Data_Giulia/test_y.npy\", test_y)"
      ]
    },
    {
      "cell_type": "markdown",
      "source": [
        "Here we are pre processing an unseen part of the training data set to build the confusing matrix and test the predictions made by our network"
      ],
      "metadata": {
        "id": "fNnt5xTDREYN"
      }
    },
    {
      "cell_type": "code",
      "source": [
        "# Convert the data set into grey-scale images and associate it with the label for the training phase\n",
        "\n",
        "## TO DO CREATE FUNCTION LOAD DATA SET\n",
        "genre = {\n",
        "        \"Hip-Hop\": 0,\n",
        "        \"International\": 1,\n",
        "        \"Electronic\": 2,\n",
        "        \"Folk\" : 3,\n",
        "        \"Experimental\": 4,\n",
        "        \"Rock\": 5,\n",
        "        \"Pop\": 6,\n",
        "        \"Instrumental\": 7\n",
        "        }\n",
        "\n",
        "spectogram_images = [os.path.join('/content/gdrive/MyDrive/Val_Sliced_Images', f)\n",
        "                          for f in os.listdir('/content/gdrive/MyDrive/Val_Sliced_Images')\n",
        "                          if f.endswith(\".jpg\")]\n",
        "\n",
        "\n",
        "images_all = [None]*(len(spectogram_images))\n",
        "labels_all = [None]*(len(spectogram_images))\n"
      ],
      "metadata": {
        "id": "QxkuL1kV1_Z9"
      },
      "execution_count": null,
      "outputs": []
    },
    {
      "cell_type": "code",
      "source": [
        "print(len(spectogram_images))\n",
        "for f in spectogram_images:\n",
        "    idx = int(re.search('/content/gdrive/MyDrive/Val_Sliced_Images/(.+?)_.*.jpg', f).group(1))\n",
        "    genre_var = re.search('/content/gdrive/MyDrive/Val_Sliced_Images/.*_(.+?).jpg', f).group(1)\n",
        "    \n",
        "    temp = cv2.imread(f, cv2.IMREAD_UNCHANGED)\n",
        "    images_all[idx] = cv2.cvtColor(temp, cv2.COLOR_BGR2GRAY)\n",
        "    labels_all[idx] = genre[genre_var]"
      ],
      "metadata": {
        "colab": {
          "base_uri": "https://localhost:8080/"
        },
        "id": "Ld7cEvqd2Jek",
        "outputId": "d2c24094-9b69-455c-b28e-a9496aeeb3ef"
      },
      "execution_count": null,
      "outputs": [
        {
          "output_type": "stream",
          "name": "stdout",
          "text": [
            "182\n"
          ]
        }
      ]
    },
    {
      "cell_type": "code",
      "source": [
        "images = np.array(images_all)\n",
        "labels = np.array(labels_all)\n",
        "labels = labels.reshape(labels.shape[0],1)\n",
        "#train_x, test_x, train_y, test_y = train_test_split(images, labels, test_size=0.1, shuffle=True)"
      ],
      "metadata": {
        "id": "yOEIoajg2SwK"
      },
      "execution_count": null,
      "outputs": []
    },
    {
      "cell_type": "code",
      "source": [
        "# Convert the labels into one-hot vectors.\n",
        "n_classes = len(genre)\n",
        "v_y = np_utils.to_categorical(labels, num_classes=n_classes)\n",
        "\n",
        "genre_new = {value: key for key, value in genre.items()}\n",
        "\n"
      ],
      "metadata": {
        "id": "hPCFH8542WGJ"
      },
      "execution_count": null,
      "outputs": []
    },
    {
      "cell_type": "code",
      "source": [
        "if os.path.exists('/content/gdrive/MyDrive/V_Giulia'):\n",
        "    v_x = np.load(\"/content/gdrive/MyDrive/V_Giulia/v_x.npy\")\n",
        "    v_y = np.load(\"/content/gdrive/MyDrive/V_Giulia/v_y.npy\")\n",
        "   \n",
        "\n",
        "if not os.path.exists('/content/gdrive/MyDrive/V_Giulia'):\n",
        "    os.makedirs('/content/gdrive/MyDrive/V_Giulia')\n",
        "np.save(\"/content/gdrive/MyDrive/V_Giulia/v_x.npy\", images)\n",
        "np.save(\"/content/gdrive/MyDrive/V_Giulia/v_y.npy\", v_y)\n"
      ],
      "metadata": {
        "id": "4fYYlpuN2YzQ"
      },
      "execution_count": null,
      "outputs": []
    },
    {
      "cell_type": "markdown",
      "source": [
        "After completing the first phase of preprocessing we just need to upload the npy files"
      ],
      "metadata": {
        "id": "DE66h1yS-mrX"
      }
    },
    {
      "cell_type": "code",
      "execution_count": 51,
      "metadata": {
        "id": "wBQTcVfd2MIe"
      },
      "outputs": [],
      "source": [
        "train_x = np.load('/content/gdrive/MyDrive/Training_Data/train_x.npy')\n",
        "test_x = np.load('/content/gdrive/MyDrive/Training_Data/test_x.npy')\n",
        "train_y = np.load('/content/gdrive/MyDrive/Training_Data/train_y.npy')\n",
        "test_y = np.load('/content/gdrive/MyDrive/Training_Data/test_y.npy')"
      ]
    },
    {
      "cell_type": "code",
      "execution_count": 52,
      "metadata": {
        "colab": {
          "base_uri": "https://localhost:8080/"
        },
        "id": "zYgAiEJ45QWe",
        "outputId": "f44ef9c3-2dd2-422f-b82a-69b95f707b56"
      },
      "outputs": [
        {
          "output_type": "execute_result",
          "data": {
            "text/plain": [
              "((44711, 8), (44711, 128, 128))"
            ]
          },
          "metadata": {},
          "execution_count": 52
        }
      ],
      "source": [
        "train_y.shape, train_x.shape"
      ]
    },
    {
      "cell_type": "markdown",
      "metadata": {
        "id": "QBFZP-vtMBeo"
      },
      "source": [
        "To shuffle also the validation set"
      ]
    },
    {
      "cell_type": "code",
      "execution_count": 53,
      "metadata": {
        "id": "5cneAqHw2OTE"
      },
      "outputs": [],
      "source": [
        "train_x_1, val_x, train_y_1, val_y = train_test_split(train_x, train_y, test_size=0.10, shuffle=True)"
      ]
    },
    {
      "cell_type": "code",
      "execution_count": 54,
      "metadata": {
        "colab": {
          "base_uri": "https://localhost:8080/"
        },
        "id": "x0azIGgD46_M",
        "outputId": "c9df13a6-9658-424e-ce5b-f05f51d4313b"
      },
      "outputs": [
        {
          "output_type": "execute_result",
          "data": {
            "text/plain": [
              "((40239, 128, 128), (40239, 8))"
            ]
          },
          "metadata": {},
          "execution_count": 54
        }
      ],
      "source": [
        "train_x_1.shape, train_y_1.shape"
      ]
    },
    {
      "cell_type": "markdown",
      "source": [
        "Expand the dimension of the image to one channel (grey scale images) (nx128x128x1)"
      ],
      "metadata": {
        "id": "pQLoqSsy-6vd"
      }
    },
    {
      "cell_type": "code",
      "execution_count": 55,
      "metadata": {
        "id": "lpGCrpSP2o1r"
      },
      "outputs": [],
      "source": [
        "train_x = train_x_1.reshape(train_x_1.shape[0], train_x_1.shape[1], train_x_1.shape[2], 1)\n",
        "test_x = test_x.reshape(test_x.shape[0], test_x.shape[1], test_x.shape[2], 1)\n",
        "val_x = val_x.reshape(val_x.shape[0], val_x.shape[1], val_x.shape[2], 1)\n"
      ]
    },
    {
      "cell_type": "code",
      "execution_count": 56,
      "metadata": {
        "id": "TfVLIaG8iLSE"
      },
      "outputs": [],
      "source": [
        "train_ds = tf.data.Dataset.from_tensor_slices((train_x, train_y_1))\n",
        "val_ds = tf.data.Dataset.from_tensor_slices((val_x, val_y))\n",
        "test_ds = tf.data.Dataset.from_tensor_slices((test_x, test_y))"
      ]
    },
    {
      "cell_type": "markdown",
      "source": [
        "Check if the data are split in the three datasets (training, validation and test) in a balanced way"
      ],
      "metadata": {
        "id": "tdDTuKNR_J35"
      }
    },
    {
      "cell_type": "code",
      "source": [
        "a = np.argmax(val_y, axis=1)\n",
        "for i in np.unique(a):\n",
        "  print(np.count_nonzero(a==i))\n"
      ],
      "metadata": {
        "colab": {
          "base_uri": "https://localhost:8080/"
        },
        "id": "Iv7mKeJgR_5Y",
        "outputId": "98476cde-b65b-406e-cea0-574c7bf88349"
      },
      "execution_count": 57,
      "outputs": [
        {
          "output_type": "stream",
          "name": "stdout",
          "text": [
            "500\n",
            "591\n",
            "559\n",
            "604\n",
            "645\n",
            "492\n",
            "604\n",
            "477\n"
          ]
        }
      ]
    },
    {
      "cell_type": "code",
      "source": [
        "b = np.argmax(train_y_1, axis=1)\n",
        "for i in np.unique(b):\n",
        "  print(np.count_nonzero(b==i))"
      ],
      "metadata": {
        "colab": {
          "base_uri": "https://localhost:8080/"
        },
        "id": "xzxSPc-XamAa",
        "outputId": "3d3fa609-ee06-472d-f680-c1bfe1de3dca"
      },
      "execution_count": 58,
      "outputs": [
        {
          "output_type": "stream",
          "name": "stdout",
          "text": [
            "4743\n",
            "5204\n",
            "4922\n",
            "5205\n",
            "5339\n",
            "4904\n",
            "5321\n",
            "4601\n"
          ]
        }
      ]
    },
    {
      "cell_type": "code",
      "source": [
        "c = np.argmax(test_y, axis=1)\n",
        "for i in np.unique(c):\n",
        "  print(np.count_nonzero(c==i))"
      ],
      "metadata": {
        "colab": {
          "base_uri": "https://localhost:8080/"
        },
        "id": "jxmQpgEIcATe",
        "outputId": "53eddae9-e519-4b25-dc8d-b5759f6f12fe"
      },
      "execution_count": 59,
      "outputs": [
        {
          "output_type": "stream",
          "name": "stdout",
          "text": [
            "616\n",
            "673\n",
            "602\n",
            "666\n",
            "638\n",
            "617\n",
            "641\n",
            "515\n"
          ]
        }
      ]
    },
    {
      "cell_type": "code",
      "execution_count": 60,
      "metadata": {
        "id": "pEnRJY2slTiX"
      },
      "outputs": [],
      "source": [
        "AUTOTUNE = tf.data.AUTOTUNE\n",
        "\n",
        "train_ds = train_ds.cache().shuffle(1000).prefetch(buffer_size=AUTOTUNE)\n",
        "val_ds = val_ds.cache().prefetch(buffer_size=AUTOTUNE)\n",
        "test_ds = test_ds.cache().prefetch(buffer_size=AUTOTUNE)"
      ]
    },
    {
      "cell_type": "markdown",
      "source": [
        "Normalize the data"
      ],
      "metadata": {
        "id": "qU9zQD8P_g7O"
      }
    },
    {
      "cell_type": "code",
      "execution_count": 61,
      "metadata": {
        "id": "iAZkyCLdn3l_"
      },
      "outputs": [],
      "source": [
        "normalization_layer = layers.Rescaling(1./255)\n",
        "val_ds = val_ds.batch(128).map(lambda x, y: (normalization_layer(x), y))\n",
        "test_ds = test_ds.batch(128).map(lambda x, y: (normalization_layer(x), y))\n",
        "train_ds = train_ds.batch(128).map(lambda x, y: (normalization_layer(x), y))"
      ]
    },
    {
      "cell_type": "code",
      "execution_count": 62,
      "metadata": {
        "id": "0DxuB-hPD2Ed"
      },
      "outputs": [],
      "source": [
        "# import regularizer\n",
        "from keras import regularizers\n",
        "from keras.regularizers import l2\n"
      ]
    },
    {
      "cell_type": "code",
      "execution_count": null,
      "metadata": {
        "id": "9phCPSX09XGG"
      },
      "outputs": [],
      "source": [
        "if not os.path.exists('/content/gdrive/MyDrive/Saved_Model_Batch'):\n",
        "  os.mkdir('/content/gdrive/MyDrive/Saved_Model_Batch')\n",
        "\n",
        "\n",
        "# HERE WE TRY TO IMPROVE THE PREVIOUS RESULT BY ADDING A BATCH NORMALIZATION LAYER AFTER\n",
        "# EACH CONVOLUTIONAL LAYER\n",
        "\n",
        "\n",
        "model = Sequential()\n",
        "model.add(Conv2D(filters=64, kernel_size=[7,7], activation=\"relu\", kernel_regularizer=regularizers.l2(0.0001), input_shape=(128,128,1)))\n",
        "# Dim = (122x122x64)\n",
        "model.add(BatchNormalization())\n",
        "model.add(AveragePooling2D(pool_size=[2,2], strides=2))\n",
        "# Dim = (61x61x64)\n",
        "model.add(Conv2D(filters=128, kernel_size=[7,7], strides=2, kernel_regularizer=regularizers.l2(0.0001), activation=\"relu\"))\n",
        "# Dim = (28x28x128)\n",
        "model.add(BatchNormalization())\n",
        "model.add(AveragePooling2D(pool_size=[2,2], strides=2))\n",
        "# Dim = (14x14x128)\n",
        "model.add(Conv2D(filters=256, kernel_size=[3,3], kernel_regularizer=regularizers.l2(0.0001), activation=\"relu\"))\n",
        "# Dim = (12x12x256)\n",
        "model.add(BatchNormalization())\n",
        "model.add(AveragePooling2D(pool_size=[2,2], strides=2))\n",
        "# Dim = (6x6x256)\n",
        "model.add(Conv2D(filters=512, kernel_size=[3,3], kernel_regularizer=regularizers.l2(0.0001), activation=\"relu\"))\n",
        "# Dim = (4x4x512)\n",
        "model.add(BatchNormalization())\n",
        "model.add(AveragePooling2D(pool_size=[2,2], strides=2))\n",
        "# Dim = (2x2x512)\n",
        "model.add(BatchNormalization())\n",
        "model.add(Flatten())\n",
        "# Dim = (2048)\n",
        "model.add(BatchNormalization())\n",
        "model.add(Dropout(0.6))\n",
        "model.add(Dense(1024, activation=\"elu\"))\n",
        "# Dim = (1024)\n",
        "model.add(Dropout(0.5))\n",
        "model.add(Dense(256, activation=\"elu\"))\n",
        "# Dim = (256)\n",
        "model.add(Dropout(0.25))\n",
        "model.add(Dense(64, activation=\"elu\"))\n",
        "# Dim = (64)\n",
        "model.add(Dense(32, activation=\"elu\"))\n",
        "# Dim = (32)\n",
        "model.add(Dense(8, activation=\"softmax\"))\n",
        "# Dim = (8)\n",
        "print(model.summary())\n",
        "\n",
        "\n",
        "# compile\n",
        "model.compile(loss=\"categorical_crossentropy\", \n",
        "              optimizer=tf.keras.optimizers.Adam(learning_rate=0.0001), \n",
        "              metrics=['accuracy'])\n",
        "\n",
        "# Save the training history\n",
        "history = model.fit(train_ds, epochs=50, verbose=1,  validation_data=val_ds)\n",
        "#pd.DataFrame(model.fit(train_x, train_y, batch_size=64, epochs=5, verbose=1, validation_split=0.1).history).to_csv(\"/content/gdrive/MyDrive/Saved_Model_Batch/training_history.csv\")\n",
        "\n",
        "# evaluate on the test set\n",
        "score = model.evaluate(test_ds, verbose=1)\n",
        "print(score)\n",
        "\n"
      ]
    },
    {
      "cell_type": "code",
      "execution_count": null,
      "metadata": {
        "id": "iyajzKJJp3aV"
      },
      "outputs": [],
      "source": [
        "# save the training history\n",
        "pd.DataFrame(history.history).to_csv('/content/gdrive/MyDrive/Saved_Model_Batch/my_model_50.csv')\n"
      ]
    },
    {
      "cell_type": "code",
      "execution_count": null,
      "metadata": {
        "colab": {
          "base_uri": "https://localhost:8080/",
          "height": 295
        },
        "id": "VzOPtAJ2qMKd",
        "outputId": "1ad2b7a6-954f-4ad9-89fd-72b656b0d173"
      },
      "outputs": [
        {
          "data": {
            "image/png": "[encoded data removed]",
            "text/plain": [
              "<Figure size 432x288 with 1 Axes>"
            ]
          },
          "metadata": {},
          "output_type": "display_data"
        }
      ],
      "source": [
        "# show the learning curves\n",
        "\n",
        "plt.plot(history.history['accuracy'])\n",
        "plt.plot(history.history['val_accuracy'])\n",
        "plt.title('model accuracy')\n",
        "plt.ylabel('accuracy')\n",
        "plt.xlabel('epoch')\n",
        "plt.legend(['train', 'test'], loc='upper left')\n",
        "plt.show()"
      ]
    },
    {
      "cell_type": "code",
      "execution_count": null,
      "metadata": {
        "id": "kGyb21jR8mxa"
      },
      "outputs": [],
      "source": [
        "# show the learning curves\n",
        "\n",
        "plt.plot(history.history['loss'])\n",
        "plt.plot(history.history['val_loss'])\n",
        "plt.title('model loss')\n",
        "plt.ylabel('loss')\n",
        "plt.xlabel('epoch')\n",
        "plt.legend(['train', 'test'], loc='upper left')\n",
        "plt.show()"
      ]
    },
    {
      "cell_type": "code",
      "source": [
        "labels = [ \"Hip-Hop\", \"International\", \"Electronic\",  \"Folk\", \"Experimental\",  \"Rock\",  \"Pop\", \"Instrumental\"]"
      ],
      "metadata": {
        "id": "X4dUn24gHEQv"
      },
      "execution_count": null,
      "outputs": []
    },
    {
      "cell_type": "code",
      "source": [
        "loaded_model_1 = load_model(\"/content/gdrive/MyDrive/Saved_Model_Batch/Model.h5\")"
      ],
      "metadata": {
        "id": "sbzBextmHLIh"
      },
      "execution_count": null,
      "outputs": []
    },
    {
      "cell_type": "code",
      "source": [
        "loaded_model_1.evaluate(test_ds, verbose=1)"
      ],
      "metadata": {
        "colab": {
          "base_uri": "https://localhost:8080/"
        },
        "id": "_8GpN__iHTQO",
        "outputId": "f46380e6-5083-44b7-b253-46e85b52bd64"
      },
      "execution_count": null,
      "outputs": [
        {
          "output_type": "stream",
          "name": "stdout",
          "text": [
            "39/39 [==============================] - 82s 2s/step - loss: 1.5271 - accuracy: 0.6753\n"
          ]
        },
        {
          "output_type": "execute_result",
          "data": {
            "text/plain": [
              "[1.527138352394104, 0.675301194190979]"
            ]
          },
          "metadata": {},
          "execution_count": 81
        }
      ]
    },
    {
      "cell_type": "code",
      "source": [
        "p = loaded_model_1.predict(v_x)"
      ],
      "metadata": {
        "id": "AlQ6adiKHcEN"
      },
      "execution_count": null,
      "outputs": []
    },
    {
      "cell_type": "code",
      "source": [
        "p_ = np.argmax(p, axis=1)"
      ],
      "metadata": {
        "id": "6plxArtbHkcN"
      },
      "execution_count": null,
      "outputs": []
    },
    {
      "cell_type": "code",
      "source": [
        "np.unique(p_)"
      ],
      "metadata": {
        "colab": {
          "base_uri": "https://localhost:8080/"
        },
        "id": "mOCR43J2HyPa",
        "outputId": "f289167c-030b-44be-94d4-16d8fab55ee8"
      },
      "execution_count": null,
      "outputs": [
        {
          "output_type": "execute_result",
          "data": {
            "text/plain": [
              "array([0, 1, 2, 3, 4, 5, 6, 7])"
            ]
          },
          "metadata": {},
          "execution_count": 133
        }
      ]
    },
    {
      "cell_type": "code",
      "source": [
        "true_labels = v_y"
      ],
      "metadata": {
        "id": "DR3eQiUEHq4m"
      },
      "execution_count": null,
      "outputs": []
    },
    {
      "cell_type": "code",
      "source": [
        "true_labels"
      ],
      "metadata": {
        "colab": {
          "base_uri": "https://localhost:8080/"
        },
        "id": "oxT_3AC9H0ua",
        "outputId": "18134691-4c65-48f6-9124-0706bd9c256b"
      },
      "execution_count": null,
      "outputs": [
        {
          "output_type": "execute_result",
          "data": {
            "text/plain": [
              "array([0, 0, 0, 0, 0, 0, 0, 0, 0, 0, 0, 0, 0, 0, 6, 6, 6, 6, 6, 6, 6, 0,\n",
              "       0, 0, 0, 0, 0, 0, 6, 6, 6, 6, 6, 6, 6, 0, 0, 0, 0, 0, 0, 0, 0, 0,\n",
              "       0, 0, 0, 0, 0, 0, 0, 0, 0, 0, 0, 0, 1, 1, 1, 1, 1, 1, 1, 7, 7, 7,\n",
              "       7, 7, 7, 7, 7, 7, 7, 7, 7, 7, 7, 1, 1, 1, 1, 1, 1, 1, 1, 1, 1, 1,\n",
              "       1, 1, 1, 1, 1, 1, 1, 1, 1, 1, 1, 1, 1, 1, 1, 1, 1, 1, 1, 1, 1, 1,\n",
              "       1, 1, 1, 1, 1, 1, 1, 1, 1, 6, 6, 6, 6, 6, 6, 6, 7, 7, 7, 7, 7, 7,\n",
              "       7, 1, 1, 1, 1, 1, 1, 1, 0, 0, 0, 0, 0, 0, 0, 7, 7, 7, 7, 7, 7, 7,\n",
              "       2, 2, 2, 2, 2, 2, 2, 6, 6, 6, 6, 6, 6, 6, 6, 6, 6, 6, 6, 6, 6, 3,\n",
              "       3, 3, 3, 3, 3, 3])"
            ]
          },
          "metadata": {},
          "execution_count": 135
        }
      ]
    },
    {
      "cell_type": "code",
      "execution_count": null,
      "metadata": {
        "id": "UaI2oWVx8sTa",
        "colab": {
          "base_uri": "https://localhost:8080/"
        },
        "outputId": "de2aa47d-638b-46f5-bf0c-e599e4c1e876"
      },
      "outputs": [
        {
          "output_type": "stream",
          "name": "stdout",
          "text": [
            "               precision    recall  f1-score   support\n",
            "\n",
            "      Hip-Hop       0.81      0.43      0.56        49\n",
            "International       0.73      0.34      0.46        56\n",
            "   Electronic       0.09      0.71      0.16         7\n",
            "         Folk       0.32      0.86      0.46         7\n",
            " Experimental       0.00      0.00      0.00         0\n",
            "         Rock       0.00      0.00      0.00         0\n",
            "          Pop       0.37      0.29      0.32        35\n",
            " Instrumental       0.62      0.18      0.28        28\n",
            "\n",
            "     accuracy                           0.36       182\n",
            "    macro avg       0.37      0.35      0.28       182\n",
            " weighted avg       0.63      0.36      0.42       182\n",
            "\n"
          ]
        },
        {
          "output_type": "stream",
          "name": "stderr",
          "text": [
            "/usr/local/lib/python3.7/dist-packages/sklearn/metrics/_classification.py:1308: UndefinedMetricWarning: Recall and F-score are ill-defined and being set to 0.0 in labels with no true samples. Use `zero_division` parameter to control this behavior.\n",
            "  _warn_prf(average, modifier, msg_start, len(result))\n",
            "/usr/local/lib/python3.7/dist-packages/sklearn/metrics/_classification.py:1308: UndefinedMetricWarning: Recall and F-score are ill-defined and being set to 0.0 in labels with no true samples. Use `zero_division` parameter to control this behavior.\n",
            "  _warn_prf(average, modifier, msg_start, len(result))\n",
            "/usr/local/lib/python3.7/dist-packages/sklearn/metrics/_classification.py:1308: UndefinedMetricWarning: Recall and F-score are ill-defined and being set to 0.0 in labels with no true samples. Use `zero_division` parameter to control this behavior.\n",
            "  _warn_prf(average, modifier, msg_start, len(result))\n"
          ]
        }
      ],
      "source": [
        "print(classification_report(true_labels, p_, target_names = labels))"
      ]
    },
    {
      "cell_type": "code",
      "execution_count": null,
      "metadata": {
        "id": "R431jaY794z9",
        "colab": {
          "base_uri": "https://localhost:8080/",
          "height": 485
        },
        "outputId": "2658ca40-777e-42d2-de75-d1072d5deb1f"
      },
      "outputs": [
        {
          "output_type": "display_data",
          "data": {
            "image/png": "[encoded data removed]",
            "text/plain": [
              "<Figure size 720x504 with 2 Axes>"
            ]
          },
          "metadata": {
            "needs_background": "light"
          }
        }
      ],
      "source": [
        "import seaborn as sn\n",
        "import pandas as pd\n",
        "import matplotlib.pyplot as plt\n",
        "cm1 = confusion_matrix(true_labels, p_)\n",
        "df_cm = pd.DataFrame(cm1, index = [i for i in labels],\n",
        "              columns = [i for i in labels])\n",
        "plt.figure(figsize = (10,7))\n",
        "sn.heatmap(df_cm, annot=True,cmap=\"RdPu\")\n",
        "plt.savefig('confusion_mrtx1.png',bbox_inches = 'tight')"
      ]
    },
    {
      "cell_type": "code",
      "execution_count": null,
      "metadata": {
        "id": "R5p9k2uGb86I"
      },
      "outputs": [],
      "source": [
        "# save the model\n",
        "model.save('/content/gdrive/MyDrive/Saved_Model_Batch/Model.h5')"
      ]
    },
    {
      "cell_type": "markdown",
      "metadata": {
        "id": "cIB6DdGU_Yh_"
      },
      "source": [
        "**Using transfer learning and comparing with the network build by us**"
      ]
    },
    {
      "cell_type": "markdown",
      "metadata": {
        "id": "Gaxwg0EO6Pe8"
      },
      "source": [
        "In order to improve the performance, we will try to use a pretrained network VGG, which will use colored images."
      ]
    },
    {
      "cell_type": "code",
      "execution_count": null,
      "metadata": {
        "colab": {
          "base_uri": "https://localhost:8080/"
        },
        "id": "QzJj31x-nP4P",
        "outputId": "d93bc39c-f25f-4317-f6fd-2f8c35dafbd8"
      },
      "outputs": [
        {
          "name": "stdout",
          "output_type": "stream",
          "text": [
            "Model: \"vgg16\"\n",
            "__________________________________________________________________________________________________\n",
            " Layer (type)                   Output Shape         Param #     Connected to                     \n",
            "==================================================================================================\n",
            " input_2 (InputLayer)           [(None, 128, 128, 1  0           []                               \n",
            "                                )]                                                                \n",
            "                                                                                                  \n",
            " concatenate_1 (Concatenate)    (None, 128, 128, 3)  0           ['input_2[0][0]',                \n",
            "                                                                  'input_2[0][0]',                \n",
            "                                                                  'input_2[0][0]']                \n",
            "                                                                                                  \n",
            " block1_conv1 (Conv2D)          (None, 128, 128, 64  1792        ['concatenate_1[0][0]']          \n",
            "                                )                                                                 \n",
            "                                                                                                  \n",
            " block1_conv2 (Conv2D)          (None, 128, 128, 64  36928       ['block1_conv1[0][0]']           \n",
            "                                )                                                                 \n",
            "                                                                                                  \n",
            " block1_pool (MaxPooling2D)     (None, 64, 64, 64)   0           ['block1_conv2[0][0]']           \n",
            "                                                                                                  \n",
            " block2_conv1 (Conv2D)          (None, 64, 64, 128)  73856       ['block1_pool[0][0]']            \n",
            "                                                                                                  \n",
            " block2_conv2 (Conv2D)          (None, 64, 64, 128)  147584      ['block2_conv1[0][0]']           \n",
            "                                                                                                  \n",
            " block2_pool (MaxPooling2D)     (None, 32, 32, 128)  0           ['block2_conv2[0][0]']           \n",
            "                                                                                                  \n",
            " block3_conv1 (Conv2D)          (None, 32, 32, 256)  295168      ['block2_pool[0][0]']            \n",
            "                                                                                                  \n",
            " block3_conv2 (Conv2D)          (None, 32, 32, 256)  590080      ['block3_conv1[0][0]']           \n",
            "                                                                                                  \n",
            " block3_conv3 (Conv2D)          (None, 32, 32, 256)  590080      ['block3_conv2[0][0]']           \n",
            "                                                                                                  \n",
            " block3_pool (MaxPooling2D)     (None, 16, 16, 256)  0           ['block3_conv3[0][0]']           \n",
            "                                                                                                  \n",
            " block4_conv1 (Conv2D)          (None, 16, 16, 512)  1180160     ['block3_pool[0][0]']            \n",
            "                                                                                                  \n",
            " block4_conv2 (Conv2D)          (None, 16, 16, 512)  2359808     ['block4_conv1[0][0]']           \n",
            "                                                                                                  \n",
            " block4_conv3 (Conv2D)          (None, 16, 16, 512)  2359808     ['block4_conv2[0][0]']           \n",
            "                                                                                                  \n",
            " block4_pool (MaxPooling2D)     (None, 8, 8, 512)    0           ['block4_conv3[0][0]']           \n",
            "                                                                                                  \n",
            " block5_conv1 (Conv2D)          (None, 8, 8, 512)    2359808     ['block4_pool[0][0]']            \n",
            "                                                                                                  \n",
            " block5_conv2 (Conv2D)          (None, 8, 8, 512)    2359808     ['block5_conv1[0][0]']           \n",
            "                                                                                                  \n",
            " block5_conv3 (Conv2D)          (None, 8, 8, 512)    2359808     ['block5_conv2[0][0]']           \n",
            "                                                                                                  \n",
            " block5_pool (MaxPooling2D)     (None, 4, 4, 512)    0           ['block5_conv3[0][0]']           \n",
            "                                                                                                  \n",
            "==================================================================================================\n",
            "Total params: 14,714,688\n",
            "Trainable params: 14,714,688\n",
            "Non-trainable params: 0\n",
            "__________________________________________________________________________________________________\n",
            "None\n",
            "Epoch 1/20\n",
            "316/316 [==============================] - ETA: 0s - loss: 1.6693 - accuracy: 0.4027\n",
            "Epoch 00001: val_loss improved from inf to 2.67777, saving model to model_.01_2.68.hdf5\n",
            "316/316 [==============================] - 340s 1s/step - loss: 1.6693 - accuracy: 0.4027 - val_loss: 2.6778 - val_accuracy: 0.2187\n",
            "Epoch 2/20\n",
            "316/316 [==============================] - ETA: 0s - loss: 1.4260 - accuracy: 0.5031\n",
            "Epoch 00002: val_loss did not improve from 2.67777\n",
            "316/316 [==============================] - 334s 1s/step - loss: 1.4260 - accuracy: 0.5031 - val_loss: 4.5179 - val_accuracy: 0.1745\n",
            "Epoch 3/20\n",
            "316/316 [==============================] - ETA: 0s - loss: 1.3207 - accuracy: 0.5425\n",
            "Epoch 00003: val_loss did not improve from 2.67777\n",
            "316/316 [==============================] - 334s 1s/step - loss: 1.3207 - accuracy: 0.5425 - val_loss: 2.8053 - val_accuracy: 0.2905\n",
            "Epoch 4/20\n",
            "316/316 [==============================] - ETA: 0s - loss: 1.2393 - accuracy: 0.5730\n",
            "Epoch 00004: val_loss improved from 2.67777 to 1.43150, saving model to model_.04_1.43.hdf5\n",
            "316/316 [==============================] - 335s 1s/step - loss: 1.2393 - accuracy: 0.5730 - val_loss: 1.4315 - val_accuracy: 0.5067\n",
            "Epoch 5/20\n",
            "316/316 [==============================] - ETA: 0s - loss: 1.1592 - accuracy: 0.6001\n",
            "Epoch 00005: val_loss did not improve from 1.43150\n",
            "316/316 [==============================] - 334s 1s/step - loss: 1.1592 - accuracy: 0.6001 - val_loss: 2.6882 - val_accuracy: 0.3541\n",
            "Epoch 6/20\n",
            "316/316 [==============================] - ETA: 0s - loss: 1.0972 - accuracy: 0.6224\n",
            "Epoch 00006: val_loss did not improve from 1.43150\n",
            "316/316 [==============================] - 334s 1s/step - loss: 1.0972 - accuracy: 0.6224 - val_loss: 2.0319 - val_accuracy: 0.3735\n",
            "Epoch 7/20\n",
            "316/316 [==============================] - ETA: 0s - loss: 1.0159 - accuracy: 0.6512\n",
            "Epoch 00007: val_loss did not improve from 1.43150\n",
            "316/316 [==============================] - 333s 1s/step - loss: 1.0159 - accuracy: 0.6512 - val_loss: 1.6691 - val_accuracy: 0.5069\n",
            "Epoch 8/20\n",
            "316/316 [==============================] - ETA: 0s - loss: 0.9384 - accuracy: 0.6779\n",
            "Epoch 00008: val_loss did not improve from 1.43150\n",
            "316/316 [==============================] - 336s 1s/step - loss: 0.9384 - accuracy: 0.6779 - val_loss: 1.5833 - val_accuracy: 0.4955\n",
            "Epoch 9/20\n",
            "316/316 [==============================] - ETA: 0s - loss: 0.8491 - accuracy: 0.7117\n",
            "Epoch 00009: val_loss did not improve from 1.43150\n",
            "316/316 [==============================] - 336s 1s/step - loss: 0.8491 - accuracy: 0.7117 - val_loss: 1.5065 - val_accuracy: 0.5587\n",
            "Epoch 10/20\n",
            "316/316 [==============================] - ETA: 0s - loss: 0.7351 - accuracy: 0.7512\n",
            "Epoch 00010: val_loss improved from 1.43150 to 1.19446, saving model to model_.10_1.19.hdf5\n",
            "316/316 [==============================] - 336s 1s/step - loss: 0.7351 - accuracy: 0.7512 - val_loss: 1.1945 - val_accuracy: 0.6169\n",
            "Epoch 11/20\n",
            "316/316 [==============================] - ETA: 0s - loss: 0.6142 - accuracy: 0.7944\n",
            "Epoch 00011: val_loss did not improve from 1.19446\n",
            "316/316 [==============================] - 335s 1s/step - loss: 0.6142 - accuracy: 0.7944 - val_loss: 2.1613 - val_accuracy: 0.4110\n",
            "Epoch 12/20\n",
            "316/316 [==============================] - ETA: 0s - loss: 0.4948 - accuracy: 0.8341\n",
            "Epoch 00012: val_loss did not improve from 1.19446\n",
            "316/316 [==============================] - 335s 1s/step - loss: 0.4948 - accuracy: 0.8341 - val_loss: 1.2809 - val_accuracy: 0.6196\n",
            "Epoch 13/20\n",
            "316/316 [==============================] - ETA: 0s - loss: 0.3969 - accuracy: 0.8684\n",
            "Epoch 00013: val_loss did not improve from 1.19446\n",
            "316/316 [==============================] - 335s 1s/step - loss: 0.3969 - accuracy: 0.8684 - val_loss: 1.7340 - val_accuracy: 0.5986\n",
            "Epoch 14/20\n",
            "316/316 [==============================] - ETA: 0s - loss: 0.3041 - accuracy: 0.9004\n",
            "Epoch 00014: val_loss did not improve from 1.19446\n",
            "316/316 [==============================] - 335s 1s/step - loss: 0.3041 - accuracy: 0.9004 - val_loss: 1.6287 - val_accuracy: 0.6332\n",
            "Epoch 15/20\n",
            "316/316 [==============================] - ETA: 0s - loss: 0.2356 - accuracy: 0.9228\n",
            "Epoch 00015: val_loss did not improve from 1.19446\n",
            "316/316 [==============================] - 335s 1s/step - loss: 0.2356 - accuracy: 0.9228 - val_loss: 1.7657 - val_accuracy: 0.5982\n",
            "Epoch 16/20\n",
            "316/316 [==============================] - ETA: 0s - loss: 0.1736 - accuracy: 0.9432\n",
            "Epoch 00016: val_loss did not improve from 1.19446\n",
            "316/316 [==============================] - 335s 1s/step - loss: 0.1736 - accuracy: 0.9432 - val_loss: 1.5109 - val_accuracy: 0.6629\n",
            "Epoch 17/20\n",
            "316/316 [==============================] - ETA: 0s - loss: 0.1537 - accuracy: 0.9484\n",
            "Epoch 00017: val_loss did not improve from 1.19446\n",
            "316/316 [==============================] - 335s 1s/step - loss: 0.1537 - accuracy: 0.9484 - val_loss: 1.7830 - val_accuracy: 0.6421\n",
            "Epoch 18/20\n",
            "316/316 [==============================] - ETA: 0s - loss: 0.1183 - accuracy: 0.9606\n",
            "Epoch 00018: val_loss did not improve from 1.19446\n",
            "316/316 [==============================] - 334s 1s/step - loss: 0.1183 - accuracy: 0.9606 - val_loss: 1.6722 - val_accuracy: 0.6660\n",
            "Epoch 19/20\n",
            "316/316 [==============================] - ETA: 0s - loss: 0.1063 - accuracy: 0.9649\n",
            "Epoch 00019: val_loss did not improve from 1.19446\n",
            "316/316 [==============================] - 334s 1s/step - loss: 0.1063 - accuracy: 0.9649 - val_loss: 2.0947 - val_accuracy: 0.6051\n",
            "Epoch 20/20\n",
            "316/316 [==============================] - ETA: 0s - loss: 0.1048 - accuracy: 0.9650\n",
            "Epoch 00020: val_loss did not improve from 1.19446\n",
            "316/316 [==============================] - 334s 1s/step - loss: 0.1048 - accuracy: 0.9650 - val_loss: 1.6775 - val_accuracy: 0.6747\n",
            "39/39 [==============================] - 25s 635ms/step - loss: 1.6769 - accuracy: 0.6620\n",
            "[1.6769205331802368, 0.6620482206344604]\n"
          ]
        }
      ],
      "source": [
        "img_input = tf.keras.layers.Input(shape=(128, 128,1))\n",
        "img_conc = tf.keras.layers.Concatenate()([img_input, img_input, img_input])    \n",
        "\n",
        "model_vgg = tf.keras.applications.vgg16.VGG16(include_top=False, weights='imagenet', input_tensor=img_conc)\n",
        "\n",
        "x = Flatten()(model_vgg.output)\n",
        "\n",
        "x = BatchNormalization()(x)\n",
        "x = Dropout(0.6)(x)\n",
        "x = Dense(512, activation=\"elu\")(x)\n",
        "\n",
        "x = Dropout(0.5)(x)\n",
        "x = Dense(256, activation=\"elu\")(x)\n",
        "# Dim = (256)\n",
        "x = Dropout(0.25)(x)\n",
        "x = Dense(64, activation=\"elu\")(x)\n",
        "# Dim = (64)\n",
        "x = Dense(32, activation=\"elu\")(x)\n",
        "# Dim = (32)\n",
        "x = Dense(8, activation=\"softmax\")(x)\n",
        "# Dim = (8)\n",
        "print(model_vgg.summary())\n",
        "\n",
        "transfer_model = tf.keras.Model(inputs=img_input, outputs=x)\n",
        "# compile\n",
        "transfer_model.compile(loss=\"categorical_crossentropy\", \n",
        "              optimizer=tf.keras.optimizers.Adam(learning_rate=0.0001), \n",
        "              metrics=['accuracy'])\n",
        "\n",
        "\n",
        "save_best_model = ModelCheckpoint(filepath='model_.{epoch:02d}_{val_loss:.2f}.hdf5', verbose=1,\n",
        "        monitor='val_loss', save_best_only=True)\n",
        "# Save the training history\n",
        "history_vgg = transfer_model.fit(train_ds, epochs=20, verbose=1,  validation_data=val_ds, callbacks=save_best_model)\n",
        "#pd.DataFrame(model.fit(train_x, train_y, batch_size=64, epochs=5, verbose=1, validation_split=0.1).history).to_csv(\"/content/gdrive/MyDrive/Saved_Model_Batch/training_history.csv\")\n",
        "\n",
        "# evaluate on the test set\n",
        "score_vgg = transfer_model.evaluate(test_ds, verbose=1)\n",
        "print(score_vgg)"
      ]
    },
    {
      "cell_type": "code",
      "execution_count": null,
      "metadata": {
        "id": "-W59CnUAN_at"
      },
      "outputs": [],
      "source": [
        "# save the training history\n",
        "if not os.path.exists('/content/gdrive/MyDrive/Saved_Model_vgg'):\n",
        "  os.mkdir('/content/gdrive/MyDrive/Saved_Model_vgg')\n",
        "\n",
        "pd.DataFrame(history_vgg.history).to_csv('/content/gdrive/MyDrive/Saved_Model_vgg/my_model_50.csv')"
      ]
    },
    {
      "cell_type": "code",
      "source": [
        "from keras.models import Model, load_model"
      ],
      "metadata": {
        "id": "63I4HVHEDHiA"
      },
      "execution_count": null,
      "outputs": []
    },
    {
      "cell_type": "code",
      "source": [
        "loaded_model_vgg = load_model(\"/content/gdrive/MyDrive/Saved_Model_vgg/Model.h5\")"
      ],
      "metadata": {
        "id": "xwJPZjE7C4GL"
      },
      "execution_count": null,
      "outputs": []
    },
    {
      "cell_type": "code",
      "execution_count": null,
      "metadata": {
        "colab": {
          "base_uri": "https://localhost:8080/",
          "height": 295
        },
        "id": "AsOEEEXuOCVv",
        "outputId": "e900bec0-feea-46ef-e348-14669207527a"
      },
      "outputs": [
        {
          "data": {
            "image/png": "[encoded data removed]",
            "text/plain": [
              "<Figure size 432x288 with 1 Axes>"
            ]
          },
          "metadata": {},
          "output_type": "display_data"
        }
      ],
      "source": [
        "# show the learning curves\n",
        "\n",
        "plt.plot(history_vgg.history['accuracy'])\n",
        "plt.plot(history_vgg.history['val_accuracy'])\n",
        "plt.title('model accuracy')\n",
        "plt.ylabel('accuracy')\n",
        "plt.xlabel('epoch')\n",
        "plt.legend(['train', 'test'], loc='upper left')\n",
        "plt.show()"
      ]
    },
    {
      "cell_type": "code",
      "execution_count": null,
      "metadata": {
        "colab": {
          "base_uri": "https://localhost:8080/",
          "height": 295
        },
        "id": "6VrC22nW-1LL",
        "outputId": "89934e1e-8109-465e-a0b5-aa187e2851e7"
      },
      "outputs": [
        {
          "data": {
            "image/png": "[encoded data removed]",
            "text/plain": [
              "<Figure size 432x288 with 1 Axes>"
            ]
          },
          "metadata": {},
          "output_type": "display_data"
        }
      ],
      "source": [
        "plt.plot(history_vgg.history['loss'])\n",
        "plt.plot(history_vgg.history['val_loss'])\n",
        "plt.title('model loss')\n",
        "plt.ylabel('loss')\n",
        "plt.xlabel('epoch')\n",
        "plt.legend(['train', 'test'], loc='upper left')\n",
        "plt.show()"
      ]
    },
    {
      "cell_type": "code",
      "execution_count": null,
      "metadata": {
        "id": "IBtp5hL6AED4"
      },
      "outputs": [],
      "source": [
        "predictions_vgg = loaded_model_vgg.predict(v_x)"
      ]
    },
    {
      "cell_type": "code",
      "source": [
        "p_vgg = np.argmax(predictions_vgg, axis=1)"
      ],
      "metadata": {
        "id": "ny_6RldHGB2J"
      },
      "execution_count": null,
      "outputs": []
    },
    {
      "cell_type": "code",
      "source": [
        "np.unique(p_vgg)"
      ],
      "metadata": {
        "colab": {
          "base_uri": "https://localhost:8080/"
        },
        "id": "3oWVm9YaGY6G",
        "outputId": "60cc6393-f2c2-4ade-c936-ed389bdc163a"
      },
      "execution_count": null,
      "outputs": [
        {
          "output_type": "execute_result",
          "data": {
            "text/plain": [
              "array([0, 1, 2, 3, 4, 5, 6, 7])"
            ]
          },
          "metadata": {},
          "execution_count": 145
        }
      ]
    },
    {
      "cell_type": "code",
      "source": [
        "print(classification_report(true_labels, p_vgg, target_names = labels))"
      ],
      "metadata": {
        "colab": {
          "base_uri": "https://localhost:8080/"
        },
        "id": "R4XatfsBEEcd",
        "outputId": "ea7ef020-b34b-4f07-f990-7bfaf671e4eb"
      },
      "execution_count": null,
      "outputs": [
        {
          "output_type": "stream",
          "name": "stdout",
          "text": [
            "               precision    recall  f1-score   support\n",
            "\n",
            "      Hip-Hop       0.85      0.45      0.59        49\n",
            "International       0.80      0.21      0.34        56\n",
            "   Electronic       0.20      0.29      0.24         7\n",
            "         Folk       0.78      1.00      0.88         7\n",
            " Experimental       0.00      0.00      0.00         0\n",
            "         Rock       0.00      0.00      0.00         0\n",
            "          Pop       0.28      0.54      0.37        35\n",
            " Instrumental       0.43      0.21      0.29        28\n",
            "\n",
            "     accuracy                           0.37       182\n",
            "    macro avg       0.42      0.34      0.34       182\n",
            " weighted avg       0.63      0.37      0.42       182\n",
            "\n"
          ]
        },
        {
          "output_type": "stream",
          "name": "stderr",
          "text": [
            "/usr/local/lib/python3.7/dist-packages/sklearn/metrics/_classification.py:1308: UndefinedMetricWarning: Recall and F-score are ill-defined and being set to 0.0 in labels with no true samples. Use `zero_division` parameter to control this behavior.\n",
            "  _warn_prf(average, modifier, msg_start, len(result))\n",
            "/usr/local/lib/python3.7/dist-packages/sklearn/metrics/_classification.py:1308: UndefinedMetricWarning: Recall and F-score are ill-defined and being set to 0.0 in labels with no true samples. Use `zero_division` parameter to control this behavior.\n",
            "  _warn_prf(average, modifier, msg_start, len(result))\n",
            "/usr/local/lib/python3.7/dist-packages/sklearn/metrics/_classification.py:1308: UndefinedMetricWarning: Recall and F-score are ill-defined and being set to 0.0 in labels with no true samples. Use `zero_division` parameter to control this behavior.\n",
            "  _warn_prf(average, modifier, msg_start, len(result))\n"
          ]
        }
      ]
    },
    {
      "cell_type": "code",
      "source": [
        "import seaborn as sn\n",
        "import pandas as pd\n",
        "import matplotlib.pyplot as plt\n",
        "cm1 = confusion_matrix(true_labels, p_vgg)\n",
        "df_cm = pd.DataFrame(cm1, index = [i for i in labels],\n",
        "              columns = [i for i in labels])\n",
        "plt.figure(figsize = (10,7))\n",
        "sn.heatmap(df_cm, annot=True,cmap=\"RdPu\")\n",
        "plt.savefig('confusion_mrtx2.png',bbox_inches = 'tight')"
      ],
      "metadata": {
        "colab": {
          "base_uri": "https://localhost:8080/",
          "height": 488
        },
        "id": "03ubTYedE71P",
        "outputId": "35bbcad0-c958-47fb-875c-2b4615eb4a3f"
      },
      "execution_count": null,
      "outputs": [
        {
          "output_type": "display_data",
          "data": {
            "image/png": "[encoded data removed]",
            "text/plain": [
              "<Figure size 720x504 with 2 Axes>"
            ]
          },
          "metadata": {
            "needs_background": "light"
          }
        }
      ]
    },
    {
      "cell_type": "code",
      "execution_count": null,
      "metadata": {
        "id": "7RyDYKBOOGN4"
      },
      "outputs": [],
      "source": [
        "# save the model\n",
        "transfer_model.save('/content/gdrive/MyDrive/Saved_Model_vgg/Model.h5')"
      ]
    },
    {
      "cell_type": "markdown",
      "source": [
        "**Reccomendation system implementation**\n",
        "\n",
        "In this section, the reccomenation system is build.\n",
        "\n",
        "We will upload a set of 33 10-seconds frames downloaded by the free library https://www-ai.cs.tu-dortmund.de/audio.html.\n",
        "\n",
        "The reccomendation system, given a title of a song as input will provide the two most similar songs in the manually created dataset based on the cosine similarity score.\n",
        "\n",
        "The songs are pre-processed, as in the training phase: they are converted into a spectogram, then sliced, and saved.\n",
        "\n",
        "In this case, the label is the title of the song itself.\n",
        "\n",
        "Although we tried to use transfer learning in the training phase, for the reccomantadion part we eill use the model build by us."
      ],
      "metadata": {
        "id": "uEVswaAFwq-r"
      }
    },
    {
      "cell_type": "code",
      "execution_count": null,
      "metadata": {
        "id": "nKIXkn5P-hiX"
      },
      "outputs": [],
      "source": [
        "from keras.models import Model, load_model"
      ]
    },
    {
      "cell_type": "code",
      "execution_count": null,
      "metadata": {
        "id": "EaZNnCqv-JGW",
        "colab": {
          "base_uri": "https://localhost:8080/"
        },
        "outputId": "906109ce-ff97-4d64-b955-49e0d88721a3"
      },
      "outputs": [
        {
          "output_type": "stream",
          "name": "stdout",
          "text": [
            "Model: \"model\"\n",
            "_________________________________________________________________\n",
            " Layer (type)                Output Shape              Param #   \n",
            "=================================================================\n",
            " conv2d_4_input (InputLayer)  [(None, 128, 128, 1)]    0         \n",
            "                                                                 \n",
            " conv2d_4 (Conv2D)           (None, 122, 122, 64)      3200      \n",
            "                                                                 \n",
            " batch_normalization_6 (Batc  (None, 122, 122, 64)     256       \n",
            " hNormalization)                                                 \n",
            "                                                                 \n",
            " average_pooling2d_4 (Averag  (None, 61, 61, 64)       0         \n",
            " ePooling2D)                                                     \n",
            "                                                                 \n",
            " conv2d_5 (Conv2D)           (None, 28, 28, 128)       401536    \n",
            "                                                                 \n",
            " batch_normalization_7 (Batc  (None, 28, 28, 128)      512       \n",
            " hNormalization)                                                 \n",
            "                                                                 \n",
            " average_pooling2d_5 (Averag  (None, 14, 14, 128)      0         \n",
            " ePooling2D)                                                     \n",
            "                                                                 \n",
            " conv2d_6 (Conv2D)           (None, 12, 12, 256)       295168    \n",
            "                                                                 \n",
            " batch_normalization_8 (Batc  (None, 12, 12, 256)      1024      \n",
            " hNormalization)                                                 \n",
            "                                                                 \n",
            " average_pooling2d_6 (Averag  (None, 6, 6, 256)        0         \n",
            " ePooling2D)                                                     \n",
            "                                                                 \n",
            " conv2d_7 (Conv2D)           (None, 4, 4, 512)         1180160   \n",
            "                                                                 \n",
            " batch_normalization_9 (Batc  (None, 4, 4, 512)        2048      \n",
            " hNormalization)                                                 \n",
            "                                                                 \n",
            " average_pooling2d_7 (Averag  (None, 2, 2, 512)        0         \n",
            " ePooling2D)                                                     \n",
            "                                                                 \n",
            " batch_normalization_10 (Bat  (None, 2, 2, 512)        2048      \n",
            " chNormalization)                                                \n",
            "                                                                 \n",
            " flatten_1 (Flatten)         (None, 2048)              0         \n",
            "                                                                 \n",
            " batch_normalization_11 (Bat  (None, 2048)             8192      \n",
            " chNormalization)                                                \n",
            "                                                                 \n",
            " dropout_3 (Dropout)         (None, 2048)              0         \n",
            "                                                                 \n",
            " dense_5 (Dense)             (None, 1024)              2098176   \n",
            "                                                                 \n",
            " dropout_4 (Dropout)         (None, 1024)              0         \n",
            "                                                                 \n",
            " dense_6 (Dense)             (None, 256)               262400    \n",
            "                                                                 \n",
            " dropout_5 (Dropout)         (None, 256)               0         \n",
            "                                                                 \n",
            " dense_7 (Dense)             (None, 64)                16448     \n",
            "                                                                 \n",
            " dense_8 (Dense)             (None, 32)                2080      \n",
            "                                                                 \n",
            "=================================================================\n",
            "Total params: 4,273,248\n",
            "Trainable params: 4,266,208\n",
            "Non-trainable params: 7,040\n",
            "_________________________________________________________________\n",
            "None\n"
          ]
        }
      ],
      "source": [
        "# Load the trained model\n",
        "\n",
        "loaded_model = load_model(\"/content/gdrive/MyDrive/Saved_Model_Batch/Model.h5\")\n",
        "loaded_model.set_weights(loaded_model.get_weights())\n",
        "\n",
        "# Discard the Softmax layer, Second last layer provides the latent feature\n",
        "# representation.\n",
        "matrix_size = loaded_model.layers[-2].output.shape[1]\n",
        "new_model = Model(loaded_model.inputs, loaded_model.layers[-2].output)\n",
        "print(new_model.summary())\n"
      ]
    },
    {
      "cell_type": "code",
      "source": [
        "# latent vector of features dimension\n",
        "\n",
        "matrix_size"
      ],
      "metadata": {
        "colab": {
          "base_uri": "https://localhost:8080/"
        },
        "id": "77K_Qpw6yqNw",
        "outputId": "b2903d3d-8c7b-4c98-f217-5cc0f48a2d90"
      },
      "execution_count": null,
      "outputs": [
        {
          "output_type": "execute_result",
          "data": {
            "text/plain": [
              "32"
            ]
          },
          "metadata": {},
          "execution_count": 8
        }
      ]
    },
    {
      "cell_type": "code",
      "source": [
        "# Upload the data set containing the informations about the songs for the recommandation part\n",
        "# to perform some explanatory analysis\n",
        "\n",
        "filename_metadata = \"/content/gdrive/MyDrive/test-Set/test-metadat.xlsx\"\n",
        "tracks = pd.read_excel(filename_metadata, header=0)\n",
        "\n",
        "print(tracks['genre'].value_counts())"
      ],
      "metadata": {
        "colab": {
          "base_uri": "https://localhost:8080/"
        },
        "id": "A-umq4vGGd-t",
        "outputId": "1e756e45-4d0a-4bb8-9c10-4d0365e999f1"
      },
      "execution_count": null,
      "outputs": [
        {
          "output_type": "stream",
          "name": "stdout",
          "text": [
            "Folk            6\n",
            "Electronic      6\n",
            "Rock            6\n",
            "Pop             6\n",
            "Hip-Hop         5\n",
            "Experimental    4\n",
            "Name: genre, dtype: int64\n"
          ]
        }
      ]
    },
    {
      "cell_type": "code",
      "source": [
        "tracks_array = tracks.values"
      ],
      "metadata": {
        "id": "nb307GHNHDhh"
      },
      "execution_count": null,
      "outputs": []
    },
    {
      "cell_type": "code",
      "source": [
        "# extract the information\n",
        "tracks_id_array = tracks_array[: , 0]\n",
        "tracks_genre_array = tracks_array[: , 2]\n",
        "\n",
        "print(tracks_id_array, tracks_genre_array)"
      ],
      "metadata": {
        "colab": {
          "base_uri": "https://localhost:8080/"
        },
        "id": "3aRlQqwsHTJP",
        "outputId": "954e93ea-dff4-4fce-bef4-6a3f12886bce"
      },
      "execution_count": null,
      "outputs": [
        {
          "output_type": "stream",
          "name": "stdout",
          "text": [
            "['Amanda_Meza_Here_I_Am.mp3' 'Adrienne_Stiefel_All_I_Know.mp3'\n",
            " 'Adam_Saul_Bloch_Orchard_Drive.mp3' 'AccoladeUK_Sleep_Tonight.mp3'\n",
            " 'Allegra_Skyline.mp3' 'Londra_Nothing_Happened.mp3' 'Aidy_Jagstang.mp3'\n",
            " 'Banana_Fish_Zero_I_Like_A_Lot.mp3' 'Animal_Pharm_Superstar.mp3'\n",
            " 'Battery_Park_B_T_C_.mp3' 'Flat_Stanley_Money.mp3' 'Yellow_Five_Fool.mp3'\n",
            " 'Aaron_Wilkinson_Osho_mask.mp3' 'anne_davis_where_the_roads_cross.mp3'\n",
            " 'Christopher_Dallman-The_7th_of_September.mp3'\n",
            " 'Emory_Joseph_Daddy_John.mp3' 'Rebecca_Hall_Hard_Way_to_Learn.mp3'\n",
            " 'JC_Smith_Dulcinea.mp3' 'Appogee_I_m_Yours.mp3'\n",
            " 'Lucy_in_the_Sky-The_impossible_planet.mp3'\n",
            " 'Diemembrence-AbolishThyHeavens.mp3' 'Timothy_Allan-Off_the_Mark.mp3'\n",
            " 'Waldo-Midnight.mp3' 'Miss_Volatile-Morph.mp3'\n",
            " 'dallas_orbiter-Bed_of_Stars.mp3' 'Dopamine-Tempermentally.mp3'\n",
            " 'hostmom-it_s_close_up_far_away.mp3' 'Loomis-It_s_Too_Hard.mp3'\n",
            " 'Apakacrakers-Hotter.mp3' 'blurred_insight-Longer_than_a_Lifetime.mp3'\n",
            " 'Charli_Funk-Bump.mp3' 'Flipside-Creepin__In.mp3'\n",
            " 'Lee_Williams___The_Square_Egg-Dream__Featuring_Antonia_Jenae_.mp3'] ['Pop' 'Pop' 'Pop' 'Pop' 'Pop' 'Pop' 'Rock' 'Rock' 'Rock' 'Rock' 'Rock'\n",
            " 'Rock' 'Folk' 'Folk' 'Folk' 'Folk' 'Folk' 'Folk' 'Electronic'\n",
            " 'Electronic' 'Electronic' 'Electronic' 'Electronic' 'Electronic'\n",
            " 'Experimental' 'Experimental' 'Experimental' 'Experimental' 'Hip-Hop'\n",
            " 'Hip-Hop' 'Hip-Hop' 'Hip-Hop' 'Hip-Hop']\n"
          ]
        }
      ]
    },
    {
      "cell_type": "code",
      "source": [
        "# convert into spectograms using librosa library and save in the folder\n",
        "\n",
        "if not os.path.exists('/content/gdrive/MyDrive/Test_Spectogram'):\n",
        "            os.makedirs('/content/gdrive/MyDrive/Test_Spectogram')\n",
        "\n",
        "folder_sample = '/content/gdrive/MyDrive/test-Set'\n",
        "            \n",
        "\n",
        "file_names = [os.path.join(folder_sample, f)\n",
        "                  for f in os.listdir(folder_sample)\n",
        "                  if f.endswith(\".mp3\")]\n",
        "\n",
        "for f in file_names:\n",
        "    author_f = re.search('/content/gdrive/MyDrive/test-Set/(.+?)-.*.mp3', f).group(1)\n",
        "    title_f = re.search('/content/gdrive/MyDrive/test-Set/.*-(.+?).mp3', f).group(1)\n",
        "\n",
        "    # returns audio time series and sampling rate\n",
        "    y, sr =  librosa.load(f)\n",
        "    # Display of mel-frequency spectrogram coefficients\n",
        "    melspectrogram_array = librosa.feature.melspectrogram(y=y, sr=sr, n_mels=128, fmax=8000)\n",
        "    # Convert a power spectrogram (amplitude squared) to decibel (dB) units\n",
        "    mel = librosa.power_to_db(melspectrogram_array)\n",
        "    # Save the images of the spectogram\n",
        "    fig_size = plt.rcParams[\"figure.figsize\"]\n",
        "    fig_size[0] = float(mel.shape[1]) / float(100)\n",
        "    fig_size[1] = float(mel.shape[0]) / float(100)\n",
        "    plt.rcParams[\"figure.figsize\"] = fig_size\n",
        "    plt.axis('off')\n",
        "    plt.axes([0., 0., 1., 1.0], frameon=False, xticks=[], yticks=[])\n",
        "    librosa.display.specshow(mel, cmap='gray_r')\n",
        "    plt.savefig(\"/content/gdrive/MyDrive/Test_Spectogram/\"+str(author_f)+\"-\"+str(title_f)+\".jpg\", bbox_inches=None, pad_inches=0)\n",
        "    plt.close()\n"
      ],
      "metadata": {
        "id": "JhGuPFl3HrXm"
      },
      "execution_count": null,
      "outputs": []
    },
    {
      "cell_type": "code",
      "source": [
        "# Create folder for sliced images and slice them\n",
        "\n",
        "if not os.path.exists('/content/gdrive/MyDrive/Test_Sliced_Images'):\n",
        "            os.makedirs('/content/gdrive/MyDrive/Test_Sliced_Images')\n",
        "\n",
        "DEF_SIZE = 128\n",
        "\n",
        "folder_sample = '/content/gdrive/MyDrive/Test_Spectogram'\n",
        "file_names = [os.path.join(folder_sample, f)\n",
        "                  for f in os.listdir(folder_sample)\n",
        "                  if f.endswith(\".jpg\")]        \n",
        "count = 0\n",
        "for f in file_names:\n",
        "  author_f = re.search('/content/gdrive/MyDrive/Test_Spectogram/(.+?)-.*.jpg', f).group(1)\n",
        "  title_f = re.search('/content/gdrive/MyDrive/Test_Spectogram/.*-(.+?).jpg', f).group(1)\n",
        "  img = Image.open(f)\n",
        "  w, h = img.size\n",
        "  # understand how many sliced images for each spectogram\n",
        "  num_slices = w // DEF_SIZE\n",
        "  print(num_slices)\n",
        "  for i in range(num_slices):\n",
        "    left_ = i*DEF_SIZE  \n",
        "    img_sliced = img.crop((left_, 0., left_+DEF_SIZE, DEF_SIZE)) # left, top, right, bottom\n",
        "    img_sliced.save(\"/content/gdrive/MyDrive/Test_Sliced_Images/\"+str(count)+\"|\"+str(author_f)+\"-\"+str(title_f)+\".jpg\")\n",
        "    count = count + 1"
      ],
      "metadata": {
        "id": "oItEUPvOLHa9"
      },
      "execution_count": null,
      "outputs": []
    },
    {
      "cell_type": "code",
      "source": [
        "# create the labeled data set; the label is the title of the song\n",
        "# convert the image into grey scale \n",
        "\n",
        "filenames = [os.path.join(\"/content/gdrive/MyDrive/Test_Sliced_Images\", f) for f in os.listdir(\"/content/gdrive/MyDrive/Test_Sliced_Images\")\n",
        "                    if f.endswith(\".jpg\")]\n",
        "images = []\n",
        "labels = []\n",
        "for f in filenames:\n",
        "    song_variable = re.search('Test_Sliced_Images/.*-(.+?).jpg', f).group(1)\n",
        "    tempImg = cv2.imread(f, cv2.IMREAD_UNCHANGED)\n",
        "    images.append(cv2.cvtColor(tempImg, cv2.COLOR_BGR2GRAY))\n",
        "    labels.append(song_variable)\n",
        "\n",
        "images = np.array(images)"
      ],
      "metadata": {
        "id": "Yy7LdWknMumK"
      },
      "execution_count": null,
      "outputs": []
    },
    {
      "cell_type": "code",
      "source": [
        "images.shape"
      ],
      "metadata": {
        "colab": {
          "base_uri": "https://localhost:8080/"
        },
        "id": "W95WjZfFQgrc",
        "outputId": "8a6ac09b-0201-445f-ea4b-150a73883458"
      },
      "execution_count": null,
      "outputs": [
        {
          "output_type": "execute_result",
          "data": {
            "text/plain": [
              "(66, 128, 128)"
            ]
          },
          "metadata": {},
          "execution_count": 15
        }
      ]
    },
    {
      "cell_type": "markdown",
      "source": [
        "Since every song is 10 seconds long, two slices are generated for each song"
      ],
      "metadata": {
        "id": "uL5xTyiWB5UZ"
      }
    },
    {
      "cell_type": "code",
      "source": [
        "labels"
      ],
      "metadata": {
        "colab": {
          "base_uri": "https://localhost:8080/"
        },
        "id": "PW30NrtRQiti",
        "outputId": "f2ffa0c7-1108-40d2-9c10-95d69bd5969d"
      },
      "execution_count": null,
      "outputs": [
        {
          "output_type": "execute_result",
          "data": {
            "text/plain": [
              "['I_m_Yours',\n",
              " 'I_m_Yours',\n",
              " 'Bed_of_Stars',\n",
              " 'Bed_of_Stars',\n",
              " 'Tempermentally',\n",
              " 'Tempermentally',\n",
              " 'AbolishThyHeavens',\n",
              " 'AbolishThyHeavens',\n",
              " 'it_s_close_up_far_away',\n",
              " 'it_s_close_up_far_away',\n",
              " 'The_impossible_planet',\n",
              " 'The_impossible_planet',\n",
              " 'It_s_Too_Hard',\n",
              " 'It_s_Too_Hard',\n",
              " 'Morph',\n",
              " 'Morph',\n",
              " 'Off_the_Mark',\n",
              " 'Off_the_Mark',\n",
              " 'Midnight',\n",
              " 'Midnight',\n",
              " 'Skyline',\n",
              " 'Skyline',\n",
              " 'All_I_Know',\n",
              " 'All_I_Know',\n",
              " 'Taste_the_Shit',\n",
              " 'Taste_the_Shit',\n",
              " 'Wish_that_they_could_hear_us',\n",
              " 'Wish_that_they_could_hear_us',\n",
              " 'Here_I_Am',\n",
              " 'Here_I_Am',\n",
              " 'Nothing_Happened',\n",
              " 'Nothing_Happened',\n",
              " 'Superstar',\n",
              " 'Superstar',\n",
              " 'Orchard_Drive',\n",
              " 'Orchard_Drive',\n",
              " 'I_Like_A_Lot',\n",
              " 'I_Like_A_Lot',\n",
              " 'Bump',\n",
              " 'Bump',\n",
              " 'Hotter',\n",
              " 'Hotter',\n",
              " 'Fool',\n",
              " 'Fool',\n",
              " 'Dream__Featuring_Antonia_Jenae_',\n",
              " 'Dream__Featuring_Antonia_Jenae_',\n",
              " 'Creepin__In',\n",
              " 'Creepin__In',\n",
              " 'Money',\n",
              " 'Money',\n",
              " 'Jagstang',\n",
              " 'Jagstang',\n",
              " 'B_T_C_',\n",
              " 'B_T_C_',\n",
              " 'Osho_mask',\n",
              " 'Osho_mask',\n",
              " 'Daddy_John',\n",
              " 'Daddy_John',\n",
              " 'Hard_Way_to_Learn',\n",
              " 'Hard_Way_to_Learn',\n",
              " 'where_the_roads_cross',\n",
              " 'where_the_roads_cross',\n",
              " 'The_7th_of_September',\n",
              " 'The_7th_of_September',\n",
              " 'Dulcinea',\n",
              " 'Dulcinea']"
            ]
          },
          "metadata": {},
          "execution_count": 16
        }
      ]
    },
    {
      "cell_type": "code",
      "source": [
        "# expand the image so that it have 1 channel, meaning grey scale\n",
        "\n",
        "images = np.expand_dims(images, axis=3)\n",
        "images.shape"
      ],
      "metadata": {
        "id": "5QeSb03pQohf",
        "colab": {
          "base_uri": "https://localhost:8080/"
        },
        "outputId": "371025a5-4343-48f8-9cea-215babed694a"
      },
      "execution_count": null,
      "outputs": [
        {
          "output_type": "execute_result",
          "data": {
            "text/plain": [
              "(66, 128, 128, 1)"
            ]
          },
          "metadata": {},
          "execution_count": 17
        }
      ]
    },
    {
      "cell_type": "code",
      "source": [
        "# Normalize the image\n",
        "\n",
        "images = images / 255."
      ],
      "metadata": {
        "id": "LoNtVpOjQ1Fm"
      },
      "execution_count": null,
      "outputs": []
    },
    {
      "cell_type": "code",
      "source": [
        "# Display list of available test songs\n",
        "\n",
        "print(np.unique(labels))"
      ],
      "metadata": {
        "colab": {
          "base_uri": "https://localhost:8080/"
        },
        "id": "R11VYa3AQ5kF",
        "outputId": "2d13f09a-212e-40bb-d7d7-5f5d98795a0c"
      },
      "execution_count": null,
      "outputs": [
        {
          "output_type": "stream",
          "name": "stdout",
          "text": [
            "['AbolishThyHeavens' 'All_I_Know' 'B_T_C_' 'Bed_of_Stars' 'Bump'\n",
            " 'Creepin__In' 'Daddy_John' 'Dream__Featuring_Antonia_Jenae_' 'Dulcinea'\n",
            " 'Fool' 'Hard_Way_to_Learn' 'Here_I_Am' 'Hotter' 'I_Like_A_Lot'\n",
            " 'I_m_Yours' 'It_s_Too_Hard' 'Jagstang' 'Midnight' 'Money' 'Morph'\n",
            " 'Nothing_Happened' 'Off_the_Mark' 'Orchard_Drive' 'Osho_mask' 'Skyline'\n",
            " 'Superstar' 'Taste_the_Shit' 'Tempermentally' 'The_7th_of_September'\n",
            " 'The_impossible_planet' 'Wish_that_they_could_hear_us'\n",
            " 'it_s_close_up_far_away' 'where_the_roads_cross']\n"
          ]
        }
      ]
    },
    {
      "cell_type": "code",
      "source": [
        "# Enter a song name which will be an anchor song.\n",
        "\n",
        "recommend_wrt = input(\"Enter Song name:\\n\")"
      ],
      "metadata": {
        "colab": {
          "base_uri": "https://localhost:8080/"
        },
        "id": "JkjLBK14RFBt",
        "outputId": "9e118dd7-a2c8-45ea-9fbf-5b51a25b46d5"
      },
      "execution_count": null,
      "outputs": [
        {
          "name": "stdout",
          "output_type": "stream",
          "text": [
            "Enter Song name:\n",
            "Bump\n"
          ]
        }
      ]
    },
    {
      "cell_type": "code",
      "source": [
        "# matrix_size = 32 is the feature vector extracted through the network\n",
        "\n",
        "prediction_anchor = np.zeros((1, matrix_size)) \n",
        "count = 0\n",
        "predictions_song = []\n",
        "predictions_label = []\n",
        "counts = []\n",
        "distance_array = []\n"
      ],
      "metadata": {
        "id": "oXrqYmuiRNyl"
      },
      "execution_count": null,
      "outputs": []
    },
    {
      "cell_type": "code",
      "execution_count": null,
      "metadata": {
        "id": "sSF9bZxASGR5"
      },
      "outputs": [],
      "source": [
        "# Calculate the latent feature vectors for all the songs\n",
        "\n",
        "for i in range(0, len(labels)):\n",
        "\n",
        "    if(labels[i] == recommend_wrt):\n",
        "        test_image = images[i]\n",
        "        test_image = np.expand_dims(test_image, axis=0)\n",
        "        prediction = new_model.predict(test_image)\n",
        "        # feature vector of 32 entities for the input song\n",
        "        prediction_anchor = prediction_anchor + prediction\n",
        "        count = count + 1\n",
        "\n",
        "    # create feature vector for each song in the playlist\n",
        "    elif(labels[i] not in predictions_label):\n",
        "        predictions_label.append(labels[i])\n",
        "        test_image = images[i]\n",
        "        test_image = np.expand_dims(test_image, axis=0)\n",
        "        prediction = new_model.predict(test_image)\n",
        "        predictions_song.append(prediction)\n",
        "        #print(predictions_song)\n",
        "        counts.append(1)\n",
        "\n",
        "    elif(labels[i] in predictions_label):\n",
        "        index = predictions_label.index(labels[i])\n",
        "        print(index)\n",
        "        test_image = images[i]\n",
        "        test_image = np.expand_dims(test_image, axis=0)\n",
        "        prediction = new_model.predict(test_image)\n",
        "        predictions_song[index] = predictions_song[index] + prediction\n",
        "        #print(predictions_song)\n",
        "        counts[index] = counts[index] + 1\n",
        "        "
      ]
    },
    {
      "cell_type": "code",
      "source": [
        "# tensor of the dimension (n songs in the data base, feature vector dimension) = (33x32)\n",
        "\n",
        "predictions_song"
      ],
      "metadata": {
        "id": "mKD9-GxR2jJf"
      },
      "execution_count": null,
      "outputs": []
    },
    {
      "cell_type": "code",
      "source": [
        "# Count is used for averaging the latent feature vectors of the input song\n",
        "\n",
        "prediction_anchor = prediction_anchor / count\n",
        "\n",
        "for i in range(len(predictions_song)):\n",
        "\n",
        "    # counts is used to avarage the feature vector for every song in the playlist\n",
        "    predictions_song[i] = predictions_song[i] / counts[i]\n",
        "\n",
        "    # Compute a similarity score of all songs with respect to the anchor song\n",
        "\n",
        "    distance_array.append(np.sum(prediction_anchor * predictions_song[i]) / (np.sqrt(np.sum(prediction_anchor**2)) * np.sqrt(np.sum(predictions_song[i]**2))))\n",
        "\n",
        "distance_array = np.array(distance_array)\n"
      ],
      "metadata": {
        "id": "a9Y_gLkdR5Hl"
      },
      "execution_count": null,
      "outputs": []
    },
    {
      "cell_type": "code",
      "source": [
        "index = np.argmax(distance_array)\n",
        "print(index)\n",
        "value = distance_array[index]\n",
        "print(value)"
      ],
      "metadata": {
        "colab": {
          "base_uri": "https://localhost:8080/"
        },
        "id": "6ue88J4h5Yca",
        "outputId": "971357a4-68e8-4138-c2ce-b0ea8816034a"
      },
      "execution_count": null,
      "outputs": [
        {
          "output_type": "stream",
          "name": "stdout",
          "text": [
            "12\n",
            "0.9940111625001262\n"
          ]
        }
      ]
    },
    {
      "cell_type": "code",
      "source": [
        "print(\"Recommendation is:\")\n",
        "\n",
        "recommendations = 0\n",
        "\n",
        "# Number of Recommendations is set to 2\n",
        "while recommendations < 2:\n",
        "  \n",
        "    # position of the song \n",
        "    index = np.argmax(distance_array)\n",
        "\n",
        "    # value of the closest song\n",
        "    value = distance_array[index]\n",
        "    print(\"Song Name: \" + predictions_label[index] + \" with similarity score = %f\" % (value))\n",
        "    distance_array[index] = -np.inf\n",
        "    recommendations = recommendations + 1"
      ],
      "metadata": {
        "id": "i0FRQorLTDg8",
        "colab": {
          "base_uri": "https://localhost:8080/"
        },
        "outputId": "96462d87-d669-453f-f1d2-ca9953545f89"
      },
      "execution_count": null,
      "outputs": [
        {
          "output_type": "stream",
          "name": "stdout",
          "text": [
            "Recommendation is:\n",
            "Song Name: Taste_the_Shit with similarity score = 0.994011\n",
            "Song Name: Hotter with similarity score = 0.993531\n"
          ]
        }
      ]
    },
    {
      "cell_type": "code",
      "source": [
        ""
      ],
      "metadata": {
        "id": "BAKgN9uq72OF"
      },
      "execution_count": null,
      "outputs": []
    }
  ],
  "metadata": {
    "accelerator": "GPU",
    "colab": {
      "collapsed_sections": [],
      "name": "copia.ipynb",
      "provenance": [],
      "include_colab_link": true
    },
    "kernelspec": {
      "display_name": "Python 3",
      "name": "python3"
    },
    "language_info": {
      "name": "python"
    }
  },
  "nbformat": 4,
  "nbformat_minor": 0
}